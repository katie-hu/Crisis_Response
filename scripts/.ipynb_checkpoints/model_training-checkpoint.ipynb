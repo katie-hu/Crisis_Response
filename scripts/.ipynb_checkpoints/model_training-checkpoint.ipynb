{
 "cells": [
  {
   "cell_type": "code",
   "execution_count": 7,
   "id": "df455ef9-6b0e-40f4-bca4-92262268d12e",
   "metadata": {
    "tags": []
   },
   "outputs": [],
   "source": [
    "from sklearn.model_selection import train_test_split\n",
    "from sklearn.tree import DecisionTreeClassifier\n",
    "from sklearn.ensemble import RandomForestClassifier, BaggingClassifier, AdaBoostClassifier,GradientBoostingClassifier\n",
    "from sklearn.neighbors import KNeighborsClassifier\n",
    "from sklearn.metrics import confusion_matrix,recall_score,precision_score,accuracy_score,f1_score\n",
    "import xgboost as xgb\n",
    "from sklearn.neural_network import MLPClassifier\n",
    "from sklearn.model_selection import ParameterGrid, cross_val_score\n",
    "from sklearn.model_selection import GridSearchCV\n",
    "from sklearn.model_selection import RandomizedSearchCV\n",
    "from hyperopt import hp, tpe, fmin,STATUS_OK,Trials\n",
    "\n",
    "\n",
    "import pandas as pd\n",
    "import numpy as np\n",
    "import warnings\n",
    "warnings.filterwarnings(\"ignore\")"
   ]
  },
  {
   "cell_type": "markdown",
   "id": "aeccaa80-295a-45cb-92b0-fbe022fb469f",
   "metadata": {},
   "source": [
    "### Load Data"
   ]
  },
  {
   "cell_type": "code",
   "execution_count": 8,
   "id": "c9a4894f-62c3-4ab1-8ab4-18e15d64e755",
   "metadata": {
    "tags": []
   },
   "outputs": [],
   "source": [
    "data_le = pd.read_csv('data/training_data/crisis_resp_nt_train.csv')"
   ]
  },
  {
   "cell_type": "code",
   "execution_count": 9,
   "id": "e7a16ad5-7e7d-455c-ab68-430319fc10ee",
   "metadata": {
    "tags": []
   },
   "outputs": [
    {
     "data": {
      "text/html": [
       "<div>\n",
       "<style scoped>\n",
       "    .dataframe tbody tr th:only-of-type {\n",
       "        vertical-align: middle;\n",
       "    }\n",
       "\n",
       "    .dataframe tbody tr th {\n",
       "        vertical-align: top;\n",
       "    }\n",
       "\n",
       "    .dataframe thead th {\n",
       "        text-align: right;\n",
       "    }\n",
       "</style>\n",
       "<table border=\"1\" class=\"dataframe\">\n",
       "  <thead>\n",
       "    <tr style=\"text-align: right;\">\n",
       "      <th></th>\n",
       "      <th>incident_num</th>\n",
       "      <th>call_type</th>\n",
       "      <th>beat</th>\n",
       "      <th>priority</th>\n",
       "      <th>disp_category_id</th>\n",
       "      <th>region_id</th>\n",
       "      <th>cr_code</th>\n",
       "    </tr>\n",
       "  </thead>\n",
       "  <tbody>\n",
       "    <tr>\n",
       "      <th>0</th>\n",
       "      <td>22110034378</td>\n",
       "      <td>1016</td>\n",
       "      <td>243</td>\n",
       "      <td>2</td>\n",
       "      <td>5</td>\n",
       "      <td>3</td>\n",
       "      <td>0</td>\n",
       "    </tr>\n",
       "    <tr>\n",
       "      <th>1</th>\n",
       "      <td>23020035394</td>\n",
       "      <td>1016</td>\n",
       "      <td>611</td>\n",
       "      <td>2</td>\n",
       "      <td>5</td>\n",
       "      <td>3</td>\n",
       "      <td>0</td>\n",
       "    </tr>\n",
       "    <tr>\n",
       "      <th>2</th>\n",
       "      <td>22010000119</td>\n",
       "      <td>1016</td>\n",
       "      <td>523</td>\n",
       "      <td>2</td>\n",
       "      <td>0</td>\n",
       "      <td>5</td>\n",
       "      <td>0</td>\n",
       "    </tr>\n",
       "    <tr>\n",
       "      <th>3</th>\n",
       "      <td>22010000156</td>\n",
       "      <td>1016</td>\n",
       "      <td>523</td>\n",
       "      <td>2</td>\n",
       "      <td>0</td>\n",
       "      <td>5</td>\n",
       "      <td>0</td>\n",
       "    </tr>\n",
       "    <tr>\n",
       "      <th>4</th>\n",
       "      <td>22010000177</td>\n",
       "      <td>1016</td>\n",
       "      <td>523</td>\n",
       "      <td>2</td>\n",
       "      <td>0</td>\n",
       "      <td>5</td>\n",
       "      <td>0</td>\n",
       "    </tr>\n",
       "  </tbody>\n",
       "</table>\n",
       "</div>"
      ],
      "text/plain": [
       "   incident_num call_type  beat  priority  disp_category_id  region_id  \\\n",
       "0   22110034378      1016   243         2                 5          3   \n",
       "1   23020035394      1016   611         2                 5          3   \n",
       "2   22010000119      1016   523         2                 0          5   \n",
       "3   22010000156      1016   523         2                 0          5   \n",
       "4   22010000177      1016   523         2                 0          5   \n",
       "\n",
       "   cr_code  \n",
       "0        0  \n",
       "1        0  \n",
       "2        0  \n",
       "3        0  \n",
       "4        0  "
      ]
     },
     "execution_count": 9,
     "metadata": {},
     "output_type": "execute_result"
    }
   ],
   "source": [
    "data_le.head()"
   ]
  },
  {
   "cell_type": "code",
   "execution_count": 10,
   "id": "2f363eb5-27e6-41ac-aa85-56b34ad596a0",
   "metadata": {
    "tags": []
   },
   "outputs": [],
   "source": [
    "def modeling(X,Y,model,model_name,random_state):\n",
    "    \"\"\"\n",
    "    Step1 - Dividing the data into train, test, validation sets\n",
    "    \"\"\"\n",
    "    X_train,X_val,Y_train,Y_val = train_test_split(X,Y,test_size=0.1,random_state=random_state)\n",
    "    X_train,X_test,Y_train,Y_test = train_test_split(X_train,Y_train,test_size=0.1,random_state=random_state)\n",
    "    \n",
    "    model.fit(X_train,Y_train)\n",
    "    Y_train_pred = model.predict(X_train)\n",
    "    Y_test_pred = model.predict(X_test)\n",
    "    Y_val_pred = model.predict(X_val)\n",
    "    \n",
    "    train_acc = accuracy_score(Y_train,Y_train_pred)\n",
    "    val_acc = accuracy_score(Y_val,Y_val_pred)\n",
    "    test_acc = accuracy_score(Y_test,Y_test_pred)\n",
    "    \n",
    "    train_recall = recall_score(Y_train,Y_train_pred,average=\"weighted\")\n",
    "    val_recall = recall_score(Y_val,Y_val_pred,average=\"weighted\")\n",
    "    test_recall = recall_score(Y_test,Y_test_pred,average=\"weighted\")\n",
    "    \n",
    "    train_precision = precision_score(Y_train,Y_train_pred,average=\"weighted\")\n",
    "    val_precision = precision_score(Y_val,Y_val_pred,average=\"weighted\")\n",
    "    test_precision = precision_score(Y_test,Y_test_pred,average=\"weighted\")\n",
    "    \n",
    "    train_f1 = f1_score(Y_train,Y_train_pred,average=\"weighted\")\n",
    "    val_f1 = f1_score(Y_val,Y_val_pred,average=\"weighted\")\n",
    "    test_f1 = f1_score(Y_test,Y_test_pred,average=\"weighted\")\n",
    "    \n",
    "    df = pd.DataFrame({\"TrainAccuracy\":train_acc,\"ValidationAccuracy\":val_acc,\"TestAccuracy\":test_acc,\n",
    "                       \"TrainPrecision\":train_precision,\"ValidationPrecision\":val_precision,\"TestPrecision\":test_precision,\n",
    "                       \"TrainRecall\":train_recall,\"ValidationRecall\":val_recall,\"TestRecall\":test_recall,\n",
    "                       \"TrainF1\":train_f1,\"ValidationF1\":val_f1,\"TestF1\":test_f1},\n",
    "                     index = [model_name])\n",
    "    \n",
    "    return df"
   ]
  },
  {
   "cell_type": "markdown",
   "id": "b59382ef-d32b-41e4-b17f-5beac214a81e",
   "metadata": {},
   "source": [
    "### Modeling For Label Encoding Data"
   ]
  },
  {
   "cell_type": "code",
   "execution_count": 11,
   "id": "bf4d5646-2b6a-4cae-8d3e-d7f4cba23595",
   "metadata": {
    "tags": []
   },
   "outputs": [],
   "source": [
    "data_le_X = data_le.drop(columns=[\"cr_code\", \"call_type\"])\n",
    "data_le_Y = data_le[[\"cr_code\"]]"
   ]
  },
  {
   "cell_type": "code",
   "execution_count": 12,
   "id": "a0a1ac23-d9fb-4c5b-83a9-abdb877f91bd",
   "metadata": {
    "tags": []
   },
   "outputs": [
    {
     "data": {
      "text/html": [
       "<div>\n",
       "<style scoped>\n",
       "    .dataframe tbody tr th:only-of-type {\n",
       "        vertical-align: middle;\n",
       "    }\n",
       "\n",
       "    .dataframe tbody tr th {\n",
       "        vertical-align: top;\n",
       "    }\n",
       "\n",
       "    .dataframe thead th {\n",
       "        text-align: right;\n",
       "    }\n",
       "</style>\n",
       "<table border=\"1\" class=\"dataframe\">\n",
       "  <thead>\n",
       "    <tr style=\"text-align: right;\">\n",
       "      <th></th>\n",
       "      <th>incident_num</th>\n",
       "      <th>beat</th>\n",
       "      <th>priority</th>\n",
       "      <th>disp_category_id</th>\n",
       "      <th>region_id</th>\n",
       "    </tr>\n",
       "  </thead>\n",
       "  <tbody>\n",
       "    <tr>\n",
       "      <th>0</th>\n",
       "      <td>22110034378</td>\n",
       "      <td>243</td>\n",
       "      <td>2</td>\n",
       "      <td>5</td>\n",
       "      <td>3</td>\n",
       "    </tr>\n",
       "    <tr>\n",
       "      <th>1</th>\n",
       "      <td>23020035394</td>\n",
       "      <td>611</td>\n",
       "      <td>2</td>\n",
       "      <td>5</td>\n",
       "      <td>3</td>\n",
       "    </tr>\n",
       "    <tr>\n",
       "      <th>2</th>\n",
       "      <td>22010000119</td>\n",
       "      <td>523</td>\n",
       "      <td>2</td>\n",
       "      <td>0</td>\n",
       "      <td>5</td>\n",
       "    </tr>\n",
       "    <tr>\n",
       "      <th>3</th>\n",
       "      <td>22010000156</td>\n",
       "      <td>523</td>\n",
       "      <td>2</td>\n",
       "      <td>0</td>\n",
       "      <td>5</td>\n",
       "    </tr>\n",
       "    <tr>\n",
       "      <th>4</th>\n",
       "      <td>22010000177</td>\n",
       "      <td>523</td>\n",
       "      <td>2</td>\n",
       "      <td>0</td>\n",
       "      <td>5</td>\n",
       "    </tr>\n",
       "  </tbody>\n",
       "</table>\n",
       "</div>"
      ],
      "text/plain": [
       "   incident_num  beat  priority  disp_category_id  region_id\n",
       "0   22110034378   243         2                 5          3\n",
       "1   23020035394   611         2                 5          3\n",
       "2   22010000119   523         2                 0          5\n",
       "3   22010000156   523         2                 0          5\n",
       "4   22010000177   523         2                 0          5"
      ]
     },
     "execution_count": 12,
     "metadata": {},
     "output_type": "execute_result"
    }
   ],
   "source": [
    "data_le_X.head()"
   ]
  },
  {
   "cell_type": "code",
   "execution_count": 13,
   "id": "19f14c43-cc7d-4837-af98-16e561ca8caf",
   "metadata": {
    "tags": []
   },
   "outputs": [],
   "source": [
    "dtree_df = modeling(data_le_X,\n",
    "                    data_le_Y,\n",
    "                    model=DecisionTreeClassifier(random_state=50),\n",
    "                    model_name = \"DecisionTree\",\n",
    "                    random_state=50)\n",
    "\n",
    "rf_df = modeling(data_le_X,\n",
    "                data_le_Y,\n",
    "                model=RandomForestClassifier(random_state=50),\n",
    "                model_name = \"RandomForest\",\n",
    "                random_state=50)\n",
    "\n",
    "bagging_df = modeling(data_le_X,\n",
    "                    data_le_Y,\n",
    "                    model=BaggingClassifier(random_state=50),\n",
    "                    model_name = \"Bagging\",\n",
    "                    random_state=50)"
   ]
  },
  {
   "cell_type": "code",
   "execution_count": 15,
   "id": "b8e292d5-bd9b-4fbf-b6c7-a133c9852612",
   "metadata": {
    "tags": []
   },
   "outputs": [
    {
     "data": {
      "text/html": [
       "<div>\n",
       "<style scoped>\n",
       "    .dataframe tbody tr th:only-of-type {\n",
       "        vertical-align: middle;\n",
       "    }\n",
       "\n",
       "    .dataframe tbody tr th {\n",
       "        vertical-align: top;\n",
       "    }\n",
       "\n",
       "    .dataframe thead th {\n",
       "        text-align: right;\n",
       "    }\n",
       "</style>\n",
       "<table border=\"1\" class=\"dataframe\">\n",
       "  <thead>\n",
       "    <tr style=\"text-align: right;\">\n",
       "      <th></th>\n",
       "      <th>TrainAccuracy</th>\n",
       "      <th>ValidationAccuracy</th>\n",
       "      <th>TestAccuracy</th>\n",
       "      <th>TrainPrecision</th>\n",
       "      <th>ValidationPrecision</th>\n",
       "      <th>TestPrecision</th>\n",
       "      <th>TrainRecall</th>\n",
       "      <th>ValidationRecall</th>\n",
       "      <th>TestRecall</th>\n",
       "      <th>TrainF1</th>\n",
       "      <th>ValidationF1</th>\n",
       "      <th>TestF1</th>\n",
       "    </tr>\n",
       "  </thead>\n",
       "  <tbody>\n",
       "    <tr>\n",
       "      <th>DecisionTree</th>\n",
       "      <td>0.977887</td>\n",
       "      <td>0.960914</td>\n",
       "      <td>0.962088</td>\n",
       "      <td>0.977544</td>\n",
       "      <td>0.944328</td>\n",
       "      <td>0.94631</td>\n",
       "      <td>0.977887</td>\n",
       "      <td>0.960914</td>\n",
       "      <td>0.962088</td>\n",
       "      <td>0.972151</td>\n",
       "      <td>0.951882</td>\n",
       "      <td>0.953445</td>\n",
       "    </tr>\n",
       "  </tbody>\n",
       "</table>\n",
       "</div>"
      ],
      "text/plain": [
       "              TrainAccuracy  ValidationAccuracy  TestAccuracy  TrainPrecision  \\\n",
       "DecisionTree       0.977887            0.960914      0.962088        0.977544   \n",
       "\n",
       "              ValidationPrecision  TestPrecision  TrainRecall  \\\n",
       "DecisionTree             0.944328        0.94631     0.977887   \n",
       "\n",
       "              ValidationRecall  TestRecall   TrainF1  ValidationF1    TestF1  \n",
       "DecisionTree          0.960914    0.962088  0.972151      0.951882  0.953445  "
      ]
     },
     "execution_count": 15,
     "metadata": {},
     "output_type": "execute_result"
    }
   ],
   "source": [
    "dtree_df.head()"
   ]
  },
  {
   "cell_type": "code",
   "execution_count": 16,
   "id": "0601c6df-551a-4c2f-9dbb-ec20b696257a",
   "metadata": {
    "tags": []
   },
   "outputs": [
    {
     "data": {
      "text/html": [
       "<div>\n",
       "<style scoped>\n",
       "    .dataframe tbody tr th:only-of-type {\n",
       "        vertical-align: middle;\n",
       "    }\n",
       "\n",
       "    .dataframe tbody tr th {\n",
       "        vertical-align: top;\n",
       "    }\n",
       "\n",
       "    .dataframe thead th {\n",
       "        text-align: right;\n",
       "    }\n",
       "</style>\n",
       "<table border=\"1\" class=\"dataframe\">\n",
       "  <thead>\n",
       "    <tr style=\"text-align: right;\">\n",
       "      <th></th>\n",
       "      <th>TrainAccuracy</th>\n",
       "      <th>ValidationAccuracy</th>\n",
       "      <th>TestAccuracy</th>\n",
       "      <th>TrainPrecision</th>\n",
       "      <th>ValidationPrecision</th>\n",
       "      <th>TestPrecision</th>\n",
       "      <th>TrainRecall</th>\n",
       "      <th>ValidationRecall</th>\n",
       "      <th>TestRecall</th>\n",
       "      <th>TrainF1</th>\n",
       "      <th>ValidationF1</th>\n",
       "      <th>TestF1</th>\n",
       "    </tr>\n",
       "  </thead>\n",
       "  <tbody>\n",
       "    <tr>\n",
       "      <th>RandomForest</th>\n",
       "      <td>0.977871</td>\n",
       "      <td>0.962479</td>\n",
       "      <td>0.963543</td>\n",
       "      <td>0.976473</td>\n",
       "      <td>0.944865</td>\n",
       "      <td>0.94626</td>\n",
       "      <td>0.977871</td>\n",
       "      <td>0.962479</td>\n",
       "      <td>0.963543</td>\n",
       "      <td>0.972614</td>\n",
       "      <td>0.952668</td>\n",
       "      <td>0.95392</td>\n",
       "    </tr>\n",
       "  </tbody>\n",
       "</table>\n",
       "</div>"
      ],
      "text/plain": [
       "              TrainAccuracy  ValidationAccuracy  TestAccuracy  TrainPrecision  \\\n",
       "RandomForest       0.977871            0.962479      0.963543        0.976473   \n",
       "\n",
       "              ValidationPrecision  TestPrecision  TrainRecall  \\\n",
       "RandomForest             0.944865        0.94626     0.977871   \n",
       "\n",
       "              ValidationRecall  TestRecall   TrainF1  ValidationF1   TestF1  \n",
       "RandomForest          0.962479    0.963543  0.972614      0.952668  0.95392  "
      ]
     },
     "execution_count": 16,
     "metadata": {},
     "output_type": "execute_result"
    }
   ],
   "source": [
    "rf_df.head()"
   ]
  },
  {
   "cell_type": "code",
   "execution_count": 17,
   "id": "d311ce7b-4699-4525-884d-306991e6294f",
   "metadata": {
    "tags": []
   },
   "outputs": [
    {
     "data": {
      "text/html": [
       "<div>\n",
       "<style scoped>\n",
       "    .dataframe tbody tr th:only-of-type {\n",
       "        vertical-align: middle;\n",
       "    }\n",
       "\n",
       "    .dataframe tbody tr th {\n",
       "        vertical-align: top;\n",
       "    }\n",
       "\n",
       "    .dataframe thead th {\n",
       "        text-align: right;\n",
       "    }\n",
       "</style>\n",
       "<table border=\"1\" class=\"dataframe\">\n",
       "  <thead>\n",
       "    <tr style=\"text-align: right;\">\n",
       "      <th></th>\n",
       "      <th>TrainAccuracy</th>\n",
       "      <th>ValidationAccuracy</th>\n",
       "      <th>TestAccuracy</th>\n",
       "      <th>TrainPrecision</th>\n",
       "      <th>ValidationPrecision</th>\n",
       "      <th>TestPrecision</th>\n",
       "      <th>TrainRecall</th>\n",
       "      <th>ValidationRecall</th>\n",
       "      <th>TestRecall</th>\n",
       "      <th>TrainF1</th>\n",
       "      <th>ValidationF1</th>\n",
       "      <th>TestF1</th>\n",
       "    </tr>\n",
       "  </thead>\n",
       "  <tbody>\n",
       "    <tr>\n",
       "      <th>Bagging</th>\n",
       "      <td>0.976099</td>\n",
       "      <td>0.962606</td>\n",
       "      <td>0.962727</td>\n",
       "      <td>0.972738</td>\n",
       "      <td>0.945387</td>\n",
       "      <td>0.945743</td>\n",
       "      <td>0.976099</td>\n",
       "      <td>0.962606</td>\n",
       "      <td>0.962727</td>\n",
       "      <td>0.970729</td>\n",
       "      <td>0.95294</td>\n",
       "      <td>0.953417</td>\n",
       "    </tr>\n",
       "  </tbody>\n",
       "</table>\n",
       "</div>"
      ],
      "text/plain": [
       "         TrainAccuracy  ValidationAccuracy  TestAccuracy  TrainPrecision  \\\n",
       "Bagging       0.976099            0.962606      0.962727        0.972738   \n",
       "\n",
       "         ValidationPrecision  TestPrecision  TrainRecall  ValidationRecall  \\\n",
       "Bagging             0.945387       0.945743     0.976099          0.962606   \n",
       "\n",
       "         TestRecall   TrainF1  ValidationF1    TestF1  \n",
       "Bagging    0.962727  0.970729       0.95294  0.953417  "
      ]
     },
     "execution_count": 17,
     "metadata": {},
     "output_type": "execute_result"
    }
   ],
   "source": [
    "bagging_df.head()"
   ]
  },
  {
   "cell_type": "markdown",
   "id": "abcd3d8d-ef9b-4a48-a83d-be4ce2453a09",
   "metadata": {},
   "source": [
    "### Models Trained with whole data"
   ]
  },
  {
   "cell_type": "code",
   "execution_count": 18,
   "id": "b121e5cb-bd40-4202-b3eb-36dcbc6face8",
   "metadata": {
    "tags": []
   },
   "outputs": [
    {
     "data": {
      "text/html": [
       "<div>\n",
       "<style scoped>\n",
       "    .dataframe tbody tr th:only-of-type {\n",
       "        vertical-align: middle;\n",
       "    }\n",
       "\n",
       "    .dataframe tbody tr th {\n",
       "        vertical-align: top;\n",
       "    }\n",
       "\n",
       "    .dataframe thead th {\n",
       "        text-align: right;\n",
       "    }\n",
       "</style>\n",
       "<table border=\"1\" class=\"dataframe\">\n",
       "  <thead>\n",
       "    <tr style=\"text-align: right;\">\n",
       "      <th></th>\n",
       "      <th>TrainAccuracy</th>\n",
       "      <th>ValidationAccuracy</th>\n",
       "      <th>TestAccuracy</th>\n",
       "      <th>TrainPrecision</th>\n",
       "      <th>ValidationPrecision</th>\n",
       "      <th>TestPrecision</th>\n",
       "      <th>TrainRecall</th>\n",
       "      <th>ValidationRecall</th>\n",
       "      <th>TestRecall</th>\n",
       "      <th>TrainF1</th>\n",
       "      <th>ValidationF1</th>\n",
       "      <th>TestF1</th>\n",
       "    </tr>\n",
       "  </thead>\n",
       "  <tbody>\n",
       "    <tr>\n",
       "      <th>DecisionTree</th>\n",
       "      <td>0.977887</td>\n",
       "      <td>0.960914</td>\n",
       "      <td>0.962088</td>\n",
       "      <td>0.977544</td>\n",
       "      <td>0.944328</td>\n",
       "      <td>0.946310</td>\n",
       "      <td>0.977887</td>\n",
       "      <td>0.960914</td>\n",
       "      <td>0.962088</td>\n",
       "      <td>0.972151</td>\n",
       "      <td>0.951882</td>\n",
       "      <td>0.953445</td>\n",
       "    </tr>\n",
       "    <tr>\n",
       "      <th>RandomForest</th>\n",
       "      <td>0.977871</td>\n",
       "      <td>0.962479</td>\n",
       "      <td>0.963543</td>\n",
       "      <td>0.976473</td>\n",
       "      <td>0.944865</td>\n",
       "      <td>0.946260</td>\n",
       "      <td>0.977871</td>\n",
       "      <td>0.962479</td>\n",
       "      <td>0.963543</td>\n",
       "      <td>0.972614</td>\n",
       "      <td>0.952668</td>\n",
       "      <td>0.953920</td>\n",
       "    </tr>\n",
       "    <tr>\n",
       "      <th>Bagging</th>\n",
       "      <td>0.976099</td>\n",
       "      <td>0.962606</td>\n",
       "      <td>0.962727</td>\n",
       "      <td>0.972738</td>\n",
       "      <td>0.945387</td>\n",
       "      <td>0.945743</td>\n",
       "      <td>0.976099</td>\n",
       "      <td>0.962606</td>\n",
       "      <td>0.962727</td>\n",
       "      <td>0.970729</td>\n",
       "      <td>0.952940</td>\n",
       "      <td>0.953417</td>\n",
       "    </tr>\n",
       "  </tbody>\n",
       "</table>\n",
       "</div>"
      ],
      "text/plain": [
       "              TrainAccuracy  ValidationAccuracy  TestAccuracy  TrainPrecision  \\\n",
       "DecisionTree       0.977887            0.960914      0.962088        0.977544   \n",
       "RandomForest       0.977871            0.962479      0.963543        0.976473   \n",
       "Bagging            0.976099            0.962606      0.962727        0.972738   \n",
       "\n",
       "              ValidationPrecision  TestPrecision  TrainRecall  \\\n",
       "DecisionTree             0.944328       0.946310     0.977887   \n",
       "RandomForest             0.944865       0.946260     0.977871   \n",
       "Bagging                  0.945387       0.945743     0.976099   \n",
       "\n",
       "              ValidationRecall  TestRecall   TrainF1  ValidationF1    TestF1  \n",
       "DecisionTree          0.960914    0.962088  0.972151      0.951882  0.953445  \n",
       "RandomForest          0.962479    0.963543  0.972614      0.952668  0.953920  \n",
       "Bagging               0.962606    0.962727  0.970729      0.952940  0.953417  "
      ]
     },
     "execution_count": 18,
     "metadata": {},
     "output_type": "execute_result"
    }
   ],
   "source": [
    "models_df_total_data = pd.concat([dtree_df,rf_df,bagging_df])\n",
    "models_df_total_data"
   ]
  },
  {
   "cell_type": "code",
   "execution_count": 19,
   "id": "b2fb3244-dec5-4187-b6be-f46eba476048",
   "metadata": {
    "tags": []
   },
   "outputs": [
    {
     "data": {
      "text/html": [
       "<div>\n",
       "<style scoped>\n",
       "    .dataframe tbody tr th:only-of-type {\n",
       "        vertical-align: middle;\n",
       "    }\n",
       "\n",
       "    .dataframe tbody tr th {\n",
       "        vertical-align: top;\n",
       "    }\n",
       "\n",
       "    .dataframe thead th {\n",
       "        text-align: right;\n",
       "    }\n",
       "</style>\n",
       "<table border=\"1\" class=\"dataframe\">\n",
       "  <thead>\n",
       "    <tr style=\"text-align: right;\">\n",
       "      <th></th>\n",
       "      <th>TrainAccuracy</th>\n",
       "      <th>ValidationAccuracy</th>\n",
       "      <th>TestAccuracy</th>\n",
       "      <th>TrainPrecision</th>\n",
       "      <th>ValidationPrecision</th>\n",
       "      <th>TestPrecision</th>\n",
       "      <th>TrainRecall</th>\n",
       "      <th>ValidationRecall</th>\n",
       "      <th>TestRecall</th>\n",
       "      <th>TrainF1</th>\n",
       "      <th>ValidationF1</th>\n",
       "      <th>TestF1</th>\n",
       "    </tr>\n",
       "  </thead>\n",
       "  <tbody>\n",
       "    <tr>\n",
       "      <th>Bagging</th>\n",
       "      <td>0.976099</td>\n",
       "      <td>0.962606</td>\n",
       "      <td>0.962727</td>\n",
       "      <td>0.972738</td>\n",
       "      <td>0.945387</td>\n",
       "      <td>0.945743</td>\n",
       "      <td>0.976099</td>\n",
       "      <td>0.962606</td>\n",
       "      <td>0.962727</td>\n",
       "      <td>0.970729</td>\n",
       "      <td>0.952940</td>\n",
       "      <td>0.953417</td>\n",
       "    </tr>\n",
       "    <tr>\n",
       "      <th>RandomForest</th>\n",
       "      <td>0.977871</td>\n",
       "      <td>0.962479</td>\n",
       "      <td>0.963543</td>\n",
       "      <td>0.976473</td>\n",
       "      <td>0.944865</td>\n",
       "      <td>0.946260</td>\n",
       "      <td>0.977871</td>\n",
       "      <td>0.962479</td>\n",
       "      <td>0.963543</td>\n",
       "      <td>0.972614</td>\n",
       "      <td>0.952668</td>\n",
       "      <td>0.953920</td>\n",
       "    </tr>\n",
       "    <tr>\n",
       "      <th>DecisionTree</th>\n",
       "      <td>0.977887</td>\n",
       "      <td>0.960914</td>\n",
       "      <td>0.962088</td>\n",
       "      <td>0.977544</td>\n",
       "      <td>0.944328</td>\n",
       "      <td>0.946310</td>\n",
       "      <td>0.977887</td>\n",
       "      <td>0.960914</td>\n",
       "      <td>0.962088</td>\n",
       "      <td>0.972151</td>\n",
       "      <td>0.951882</td>\n",
       "      <td>0.953445</td>\n",
       "    </tr>\n",
       "  </tbody>\n",
       "</table>\n",
       "</div>"
      ],
      "text/plain": [
       "              TrainAccuracy  ValidationAccuracy  TestAccuracy  TrainPrecision  \\\n",
       "Bagging            0.976099            0.962606      0.962727        0.972738   \n",
       "RandomForest       0.977871            0.962479      0.963543        0.976473   \n",
       "DecisionTree       0.977887            0.960914      0.962088        0.977544   \n",
       "\n",
       "              ValidationPrecision  TestPrecision  TrainRecall  \\\n",
       "Bagging                  0.945387       0.945743     0.976099   \n",
       "RandomForest             0.944865       0.946260     0.977871   \n",
       "DecisionTree             0.944328       0.946310     0.977887   \n",
       "\n",
       "              ValidationRecall  TestRecall   TrainF1  ValidationF1    TestF1  \n",
       "Bagging               0.962606    0.962727  0.970729      0.952940  0.953417  \n",
       "RandomForest          0.962479    0.963543  0.972614      0.952668  0.953920  \n",
       "DecisionTree          0.960914    0.962088  0.972151      0.951882  0.953445  "
      ]
     },
     "execution_count": 19,
     "metadata": {},
     "output_type": "execute_result"
    }
   ],
   "source": [
    "models_df_total_data.sort_values(by=[\"ValidationAccuracy\",\"ValidationF1\"],ascending=False,inplace=True)\n",
    "models_df_total_data"
   ]
  },
  {
   "cell_type": "code",
   "execution_count": 20,
   "id": "040f5823-eb0a-4fbe-9ae0-c7559bdabd98",
   "metadata": {
    "tags": []
   },
   "outputs": [
    {
     "name": "stdout",
     "output_type": "stream",
     "text": [
      "BEST MODEL WITH DEFAULT PARAMETERS =  Bagging\n",
      "WITH MODEL VALIDATION ACCURACY =  0.9626063770337373\n",
      "WITH MODEL VALIDATION PRECISION =  0.9453867434422651\n",
      "WITH MODEL VALIDATION RECALL =  0.9626063770337373\n",
      "WITH MODEL VALIDATION F1SCORE =  0.9529402133656835 "
     ]
    }
   ],
   "source": [
    "print(\"Best Model with default parameters = \".upper(),models_df_total_data.index[0],end=\"\\n\")\n",
    "print(\"with model validation accuracy = \".upper(),models_df_total_data.ValidationAccuracy[0], end=\"\\n\")\n",
    "print(\"with model validation precision = \".upper(),models_df_total_data.ValidationPrecision[0], end=\"\\n\")\n",
    "print(\"with model validation recall = \".upper(),models_df_total_data.ValidationRecall[0], end=\"\\n\")\n",
    "print(\"with model validation f1score = \".upper(),models_df_total_data.ValidationF1[0], end=\" \")"
   ]
  },
  {
   "cell_type": "markdown",
   "id": "5e92d499-6c56-4e8c-82c8-d19089812be6",
   "metadata": {},
   "source": [
    "## Hyperparameter Tuning"
   ]
  },
  {
   "cell_type": "markdown",
   "id": "80ceec4e-ae24-498e-ae65-6955bdc38dfe",
   "metadata": {
    "tags": []
   },
   "source": [
    "### RandomForest"
   ]
  },
  {
   "cell_type": "code",
   "execution_count": 23,
   "id": "25fa1133-ff79-4e06-b0ba-e4c21c169742",
   "metadata": {
    "tags": []
   },
   "outputs": [],
   "source": [
    "parameters ={'max_depth': [10, 20],\n",
    "     'criterion' : ['gini', 'entropy'],\n",
    "     'max_features': [0.3,0.5],\n",
    "     'min_samples_leaf': [3,5,7],\n",
    "     'min_samples_split': [2,5],\n",
    "     'n_estimators': [50,100]}\n",
    "\n",
    "param_size = ParameterGrid(parameters)"
   ]
  },
  {
   "cell_type": "code",
   "execution_count": 24,
   "id": "a4a9b106-3091-4fc0-bf17-afd6414cb0db",
   "metadata": {
    "tags": []
   },
   "outputs": [
    {
     "name": "stdout",
     "output_type": "stream",
     "text": [
      "Best Params:  {'criterion': 'gini', 'max_depth': 10, 'max_features': 0.3, 'min_samples_leaf': 3, 'min_samples_split': 2, 'n_estimators': 50}\n",
      "Best Score:  1.0\n"
     ]
    }
   ],
   "source": [
    "grid_search = RandomForestClassifier()\n",
    "grid_search = GridSearchCV(\n",
    "    grid_search, \n",
    "    parameters, \n",
    "    cv=5,\n",
    "    scoring='accuracy',n_jobs=-1)\n",
    "\n",
    "X_train,X_val,Y_train,Y_val = train_test_split(data_le_X.iloc[:50000],data_le_Y.iloc[0:50000],test_size=0.1,random_state=50)\n",
    "X_train,X_test,Y_train,Y_test = train_test_split(X_train,Y_train,test_size=0.1,random_state=50)\n",
    "\n",
    "grid_result= grid_search.fit(X_train, Y_train)\n",
    "print('Best Params: ', grid_result.best_params_)\n",
    "print('Best Score: ', grid_result.best_score_)"
   ]
  },
  {
   "cell_type": "markdown",
   "id": "b78f07e7-a7a9-477a-9f0d-87f48639aac9",
   "metadata": {},
   "source": [
    "# Randomized CV"
   ]
  },
  {
   "cell_type": "code",
   "execution_count": 25,
   "id": "2461dc20-be43-4b4a-b291-caff2b454c73",
   "metadata": {
    "tags": []
   },
   "outputs": [
    {
     "name": "stdout",
     "output_type": "stream",
     "text": [
      "Fitting 5 folds for each of 96 candidates, totalling 480 fits\n"
     ]
    },
    {
     "name": "stderr",
     "output_type": "stream",
     "text": [
      "[Parallel(n_jobs=-1)]: Using backend LokyBackend with 2 concurrent workers.\n",
      "[Parallel(n_jobs=-1)]: Done  46 tasks      | elapsed:   11.3s\n",
      "[Parallel(n_jobs=-1)]: Done 196 tasks      | elapsed:   49.5s\n",
      "[Parallel(n_jobs=-1)]: Done 446 tasks      | elapsed:  1.9min\n",
      "[Parallel(n_jobs=-1)]: Done 480 out of 480 | elapsed:  2.0min finished\n"
     ]
    },
    {
     "name": "stdout",
     "output_type": "stream",
     "text": [
      "Best Score:  100.0\n",
      "Best Params:  {'n_estimators': 50, 'min_samples_split': 2, 'min_samples_leaf': 3, 'max_features': 0.3, 'max_depth': 10, 'criterion': 'gini'}\n"
     ]
    }
   ],
   "source": [
    "random_search=RandomizedSearchCV(estimator = RandomForestClassifier(), param_distributions=parameters,verbose=1, n_jobs=-1,\n",
    "                            n_iter=200)\n",
    "random_result = random_search.fit(X_train, Y_train)\n",
    "print('Best Score: ', random_result.best_score_*100)\n",
    "print('Best Params: ', random_result.best_params_)"
   ]
  },
  {
   "cell_type": "markdown",
   "id": "da754c18-3575-4e28-b33d-250fdaa44e43",
   "metadata": {},
   "source": [
    "# Bayesian model Optimization using HyperOpt"
   ]
  },
  {
   "cell_type": "code",
   "execution_count": 26,
   "id": "0adaa8a9-b5ca-43b3-8b0b-7855a87e612d",
   "metadata": {
    "tags": []
   },
   "outputs": [
    {
     "name": "stdout",
     "output_type": "stream",
     "text": [
      "100%|██████████| 5/5 [00:11<00:00,  2.36s/trial, best loss: -1.0]\n",
      "New best: 1.0 {'criterion': 0, 'max_depth': 26, 'max_features': 0.7528287130296112, 'min_samples_leaf': 1, 'min_samples_split': 1, 'n_estimators': 34}\n",
      "{'criterion': 0, 'max_depth': 26, 'max_features': 0.7528287130296112, 'min_samples_leaf': 1, 'min_samples_split': 1, 'n_estimators': 34}\n"
     ]
    }
   ],
   "source": [
    "def accuracy_model(params):\n",
    "   clf = RandomForestClassifier(**params)\n",
    "   return cross_val_score(clf, X_train, Y_train).mean()\n",
    "\n",
    "param_space = {'max_depth': hp.choice('max_depth', range(10,100)),\n",
    "'max_features': hp.uniform('max_features', 0.1,1),\n",
    "'n_estimators': hp.choice('n_estimators', range(50,500)),\n",
    "'min_samples_leaf': hp.choice('min_samples_leaf',range(3,5)),\n",
    "'min_samples_split': hp.choice('min_samples_split',range(2,10)),\n",
    "'criterion': hp.choice('criterion', [\"gini\", \"entropy\"])}\n",
    "\n",
    "best = 0\n",
    "\n",
    "def f(params):\n",
    "    global best\n",
    "    acc = accuracy_model(params)\n",
    "    if acc > best:\n",
    "        best = acc\n",
    "    return {'loss': -acc, 'status': STATUS_OK}\n",
    "\n",
    "Trials = Trials()\n",
    "best_params = fmin(f, param_space , algo=tpe.suggest,max_evals=5, trials= Trials)\n",
    "print('New best:', best, best_params)\n",
    "print(best_params)"
   ]
  },
  {
   "cell_type": "code",
   "execution_count": null,
   "id": "8cc62c66-447d-48bb-9803-5202c2e45e8c",
   "metadata": {},
   "outputs": [],
   "source": []
  }
 ],
 "metadata": {
  "availableInstances": [
   {
    "_defaultOrder": 0,
    "_isFastLaunch": true,
    "category": "General purpose",
    "gpuNum": 0,
    "hideHardwareSpecs": false,
    "memoryGiB": 4,
    "name": "ml.t3.medium",
    "vcpuNum": 2
   },
   {
    "_defaultOrder": 1,
    "_isFastLaunch": false,
    "category": "General purpose",
    "gpuNum": 0,
    "hideHardwareSpecs": false,
    "memoryGiB": 8,
    "name": "ml.t3.large",
    "vcpuNum": 2
   },
   {
    "_defaultOrder": 2,
    "_isFastLaunch": false,
    "category": "General purpose",
    "gpuNum": 0,
    "hideHardwareSpecs": false,
    "memoryGiB": 16,
    "name": "ml.t3.xlarge",
    "vcpuNum": 4
   },
   {
    "_defaultOrder": 3,
    "_isFastLaunch": false,
    "category": "General purpose",
    "gpuNum": 0,
    "hideHardwareSpecs": false,
    "memoryGiB": 32,
    "name": "ml.t3.2xlarge",
    "vcpuNum": 8
   },
   {
    "_defaultOrder": 4,
    "_isFastLaunch": true,
    "category": "General purpose",
    "gpuNum": 0,
    "hideHardwareSpecs": false,
    "memoryGiB": 8,
    "name": "ml.m5.large",
    "vcpuNum": 2
   },
   {
    "_defaultOrder": 5,
    "_isFastLaunch": false,
    "category": "General purpose",
    "gpuNum": 0,
    "hideHardwareSpecs": false,
    "memoryGiB": 16,
    "name": "ml.m5.xlarge",
    "vcpuNum": 4
   },
   {
    "_defaultOrder": 6,
    "_isFastLaunch": false,
    "category": "General purpose",
    "gpuNum": 0,
    "hideHardwareSpecs": false,
    "memoryGiB": 32,
    "name": "ml.m5.2xlarge",
    "vcpuNum": 8
   },
   {
    "_defaultOrder": 7,
    "_isFastLaunch": false,
    "category": "General purpose",
    "gpuNum": 0,
    "hideHardwareSpecs": false,
    "memoryGiB": 64,
    "name": "ml.m5.4xlarge",
    "vcpuNum": 16
   },
   {
    "_defaultOrder": 8,
    "_isFastLaunch": false,
    "category": "General purpose",
    "gpuNum": 0,
    "hideHardwareSpecs": false,
    "memoryGiB": 128,
    "name": "ml.m5.8xlarge",
    "vcpuNum": 32
   },
   {
    "_defaultOrder": 9,
    "_isFastLaunch": false,
    "category": "General purpose",
    "gpuNum": 0,
    "hideHardwareSpecs": false,
    "memoryGiB": 192,
    "name": "ml.m5.12xlarge",
    "vcpuNum": 48
   },
   {
    "_defaultOrder": 10,
    "_isFastLaunch": false,
    "category": "General purpose",
    "gpuNum": 0,
    "hideHardwareSpecs": false,
    "memoryGiB": 256,
    "name": "ml.m5.16xlarge",
    "vcpuNum": 64
   },
   {
    "_defaultOrder": 11,
    "_isFastLaunch": false,
    "category": "General purpose",
    "gpuNum": 0,
    "hideHardwareSpecs": false,
    "memoryGiB": 384,
    "name": "ml.m5.24xlarge",
    "vcpuNum": 96
   },
   {
    "_defaultOrder": 12,
    "_isFastLaunch": false,
    "category": "General purpose",
    "gpuNum": 0,
    "hideHardwareSpecs": false,
    "memoryGiB": 8,
    "name": "ml.m5d.large",
    "vcpuNum": 2
   },
   {
    "_defaultOrder": 13,
    "_isFastLaunch": false,
    "category": "General purpose",
    "gpuNum": 0,
    "hideHardwareSpecs": false,
    "memoryGiB": 16,
    "name": "ml.m5d.xlarge",
    "vcpuNum": 4
   },
   {
    "_defaultOrder": 14,
    "_isFastLaunch": false,
    "category": "General purpose",
    "gpuNum": 0,
    "hideHardwareSpecs": false,
    "memoryGiB": 32,
    "name": "ml.m5d.2xlarge",
    "vcpuNum": 8
   },
   {
    "_defaultOrder": 15,
    "_isFastLaunch": false,
    "category": "General purpose",
    "gpuNum": 0,
    "hideHardwareSpecs": false,
    "memoryGiB": 64,
    "name": "ml.m5d.4xlarge",
    "vcpuNum": 16
   },
   {
    "_defaultOrder": 16,
    "_isFastLaunch": false,
    "category": "General purpose",
    "gpuNum": 0,
    "hideHardwareSpecs": false,
    "memoryGiB": 128,
    "name": "ml.m5d.8xlarge",
    "vcpuNum": 32
   },
   {
    "_defaultOrder": 17,
    "_isFastLaunch": false,
    "category": "General purpose",
    "gpuNum": 0,
    "hideHardwareSpecs": false,
    "memoryGiB": 192,
    "name": "ml.m5d.12xlarge",
    "vcpuNum": 48
   },
   {
    "_defaultOrder": 18,
    "_isFastLaunch": false,
    "category": "General purpose",
    "gpuNum": 0,
    "hideHardwareSpecs": false,
    "memoryGiB": 256,
    "name": "ml.m5d.16xlarge",
    "vcpuNum": 64
   },
   {
    "_defaultOrder": 19,
    "_isFastLaunch": false,
    "category": "General purpose",
    "gpuNum": 0,
    "hideHardwareSpecs": false,
    "memoryGiB": 384,
    "name": "ml.m5d.24xlarge",
    "vcpuNum": 96
   },
   {
    "_defaultOrder": 20,
    "_isFastLaunch": false,
    "category": "General purpose",
    "gpuNum": 0,
    "hideHardwareSpecs": true,
    "memoryGiB": 0,
    "name": "ml.geospatial.interactive",
    "supportedImageNames": [
     "sagemaker-geospatial-v1-0"
    ],
    "vcpuNum": 0
   },
   {
    "_defaultOrder": 21,
    "_isFastLaunch": true,
    "category": "Compute optimized",
    "gpuNum": 0,
    "hideHardwareSpecs": false,
    "memoryGiB": 4,
    "name": "ml.c5.large",
    "vcpuNum": 2
   },
   {
    "_defaultOrder": 22,
    "_isFastLaunch": false,
    "category": "Compute optimized",
    "gpuNum": 0,
    "hideHardwareSpecs": false,
    "memoryGiB": 8,
    "name": "ml.c5.xlarge",
    "vcpuNum": 4
   },
   {
    "_defaultOrder": 23,
    "_isFastLaunch": false,
    "category": "Compute optimized",
    "gpuNum": 0,
    "hideHardwareSpecs": false,
    "memoryGiB": 16,
    "name": "ml.c5.2xlarge",
    "vcpuNum": 8
   },
   {
    "_defaultOrder": 24,
    "_isFastLaunch": false,
    "category": "Compute optimized",
    "gpuNum": 0,
    "hideHardwareSpecs": false,
    "memoryGiB": 32,
    "name": "ml.c5.4xlarge",
    "vcpuNum": 16
   },
   {
    "_defaultOrder": 25,
    "_isFastLaunch": false,
    "category": "Compute optimized",
    "gpuNum": 0,
    "hideHardwareSpecs": false,
    "memoryGiB": 72,
    "name": "ml.c5.9xlarge",
    "vcpuNum": 36
   },
   {
    "_defaultOrder": 26,
    "_isFastLaunch": false,
    "category": "Compute optimized",
    "gpuNum": 0,
    "hideHardwareSpecs": false,
    "memoryGiB": 96,
    "name": "ml.c5.12xlarge",
    "vcpuNum": 48
   },
   {
    "_defaultOrder": 27,
    "_isFastLaunch": false,
    "category": "Compute optimized",
    "gpuNum": 0,
    "hideHardwareSpecs": false,
    "memoryGiB": 144,
    "name": "ml.c5.18xlarge",
    "vcpuNum": 72
   },
   {
    "_defaultOrder": 28,
    "_isFastLaunch": false,
    "category": "Compute optimized",
    "gpuNum": 0,
    "hideHardwareSpecs": false,
    "memoryGiB": 192,
    "name": "ml.c5.24xlarge",
    "vcpuNum": 96
   },
   {
    "_defaultOrder": 29,
    "_isFastLaunch": true,
    "category": "Accelerated computing",
    "gpuNum": 1,
    "hideHardwareSpecs": false,
    "memoryGiB": 16,
    "name": "ml.g4dn.xlarge",
    "vcpuNum": 4
   },
   {
    "_defaultOrder": 30,
    "_isFastLaunch": false,
    "category": "Accelerated computing",
    "gpuNum": 1,
    "hideHardwareSpecs": false,
    "memoryGiB": 32,
    "name": "ml.g4dn.2xlarge",
    "vcpuNum": 8
   },
   {
    "_defaultOrder": 31,
    "_isFastLaunch": false,
    "category": "Accelerated computing",
    "gpuNum": 1,
    "hideHardwareSpecs": false,
    "memoryGiB": 64,
    "name": "ml.g4dn.4xlarge",
    "vcpuNum": 16
   },
   {
    "_defaultOrder": 32,
    "_isFastLaunch": false,
    "category": "Accelerated computing",
    "gpuNum": 1,
    "hideHardwareSpecs": false,
    "memoryGiB": 128,
    "name": "ml.g4dn.8xlarge",
    "vcpuNum": 32
   },
   {
    "_defaultOrder": 33,
    "_isFastLaunch": false,
    "category": "Accelerated computing",
    "gpuNum": 4,
    "hideHardwareSpecs": false,
    "memoryGiB": 192,
    "name": "ml.g4dn.12xlarge",
    "vcpuNum": 48
   },
   {
    "_defaultOrder": 34,
    "_isFastLaunch": false,
    "category": "Accelerated computing",
    "gpuNum": 1,
    "hideHardwareSpecs": false,
    "memoryGiB": 256,
    "name": "ml.g4dn.16xlarge",
    "vcpuNum": 64
   },
   {
    "_defaultOrder": 35,
    "_isFastLaunch": false,
    "category": "Accelerated computing",
    "gpuNum": 1,
    "hideHardwareSpecs": false,
    "memoryGiB": 61,
    "name": "ml.p3.2xlarge",
    "vcpuNum": 8
   },
   {
    "_defaultOrder": 36,
    "_isFastLaunch": false,
    "category": "Accelerated computing",
    "gpuNum": 4,
    "hideHardwareSpecs": false,
    "memoryGiB": 244,
    "name": "ml.p3.8xlarge",
    "vcpuNum": 32
   },
   {
    "_defaultOrder": 37,
    "_isFastLaunch": false,
    "category": "Accelerated computing",
    "gpuNum": 8,
    "hideHardwareSpecs": false,
    "memoryGiB": 488,
    "name": "ml.p3.16xlarge",
    "vcpuNum": 64
   },
   {
    "_defaultOrder": 38,
    "_isFastLaunch": false,
    "category": "Accelerated computing",
    "gpuNum": 8,
    "hideHardwareSpecs": false,
    "memoryGiB": 768,
    "name": "ml.p3dn.24xlarge",
    "vcpuNum": 96
   },
   {
    "_defaultOrder": 39,
    "_isFastLaunch": false,
    "category": "Memory Optimized",
    "gpuNum": 0,
    "hideHardwareSpecs": false,
    "memoryGiB": 16,
    "name": "ml.r5.large",
    "vcpuNum": 2
   },
   {
    "_defaultOrder": 40,
    "_isFastLaunch": false,
    "category": "Memory Optimized",
    "gpuNum": 0,
    "hideHardwareSpecs": false,
    "memoryGiB": 32,
    "name": "ml.r5.xlarge",
    "vcpuNum": 4
   },
   {
    "_defaultOrder": 41,
    "_isFastLaunch": false,
    "category": "Memory Optimized",
    "gpuNum": 0,
    "hideHardwareSpecs": false,
    "memoryGiB": 64,
    "name": "ml.r5.2xlarge",
    "vcpuNum": 8
   },
   {
    "_defaultOrder": 42,
    "_isFastLaunch": false,
    "category": "Memory Optimized",
    "gpuNum": 0,
    "hideHardwareSpecs": false,
    "memoryGiB": 128,
    "name": "ml.r5.4xlarge",
    "vcpuNum": 16
   },
   {
    "_defaultOrder": 43,
    "_isFastLaunch": false,
    "category": "Memory Optimized",
    "gpuNum": 0,
    "hideHardwareSpecs": false,
    "memoryGiB": 256,
    "name": "ml.r5.8xlarge",
    "vcpuNum": 32
   },
   {
    "_defaultOrder": 44,
    "_isFastLaunch": false,
    "category": "Memory Optimized",
    "gpuNum": 0,
    "hideHardwareSpecs": false,
    "memoryGiB": 384,
    "name": "ml.r5.12xlarge",
    "vcpuNum": 48
   },
   {
    "_defaultOrder": 45,
    "_isFastLaunch": false,
    "category": "Memory Optimized",
    "gpuNum": 0,
    "hideHardwareSpecs": false,
    "memoryGiB": 512,
    "name": "ml.r5.16xlarge",
    "vcpuNum": 64
   },
   {
    "_defaultOrder": 46,
    "_isFastLaunch": false,
    "category": "Memory Optimized",
    "gpuNum": 0,
    "hideHardwareSpecs": false,
    "memoryGiB": 768,
    "name": "ml.r5.24xlarge",
    "vcpuNum": 96
   },
   {
    "_defaultOrder": 47,
    "_isFastLaunch": false,
    "category": "Accelerated computing",
    "gpuNum": 1,
    "hideHardwareSpecs": false,
    "memoryGiB": 16,
    "name": "ml.g5.xlarge",
    "vcpuNum": 4
   },
   {
    "_defaultOrder": 48,
    "_isFastLaunch": false,
    "category": "Accelerated computing",
    "gpuNum": 1,
    "hideHardwareSpecs": false,
    "memoryGiB": 32,
    "name": "ml.g5.2xlarge",
    "vcpuNum": 8
   },
   {
    "_defaultOrder": 49,
    "_isFastLaunch": false,
    "category": "Accelerated computing",
    "gpuNum": 1,
    "hideHardwareSpecs": false,
    "memoryGiB": 64,
    "name": "ml.g5.4xlarge",
    "vcpuNum": 16
   },
   {
    "_defaultOrder": 50,
    "_isFastLaunch": false,
    "category": "Accelerated computing",
    "gpuNum": 1,
    "hideHardwareSpecs": false,
    "memoryGiB": 128,
    "name": "ml.g5.8xlarge",
    "vcpuNum": 32
   },
   {
    "_defaultOrder": 51,
    "_isFastLaunch": false,
    "category": "Accelerated computing",
    "gpuNum": 1,
    "hideHardwareSpecs": false,
    "memoryGiB": 256,
    "name": "ml.g5.16xlarge",
    "vcpuNum": 64
   },
   {
    "_defaultOrder": 52,
    "_isFastLaunch": false,
    "category": "Accelerated computing",
    "gpuNum": 4,
    "hideHardwareSpecs": false,
    "memoryGiB": 192,
    "name": "ml.g5.12xlarge",
    "vcpuNum": 48
   },
   {
    "_defaultOrder": 53,
    "_isFastLaunch": false,
    "category": "Accelerated computing",
    "gpuNum": 4,
    "hideHardwareSpecs": false,
    "memoryGiB": 384,
    "name": "ml.g5.24xlarge",
    "vcpuNum": 96
   },
   {
    "_defaultOrder": 54,
    "_isFastLaunch": false,
    "category": "Accelerated computing",
    "gpuNum": 8,
    "hideHardwareSpecs": false,
    "memoryGiB": 768,
    "name": "ml.g5.48xlarge",
    "vcpuNum": 192
   }
  ],
  "instance_type": "ml.t3.medium",
  "kernelspec": {
   "display_name": "Python 3 (Data Science)",
   "language": "python",
   "name": "python3__SAGEMAKER_INTERNAL__arn:aws:sagemaker:us-east-1:081325390199:image/datascience-1.0"
  },
  "language_info": {
   "codemirror_mode": {
    "name": "ipython",
    "version": 3
   },
   "file_extension": ".py",
   "mimetype": "text/x-python",
   "name": "python",
   "nbconvert_exporter": "python",
   "pygments_lexer": "ipython3",
   "version": "3.7.10"
  }
 },
 "nbformat": 4,
 "nbformat_minor": 5
}

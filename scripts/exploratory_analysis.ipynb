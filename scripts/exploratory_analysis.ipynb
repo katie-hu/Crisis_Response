{
 "cells": [
  {
   "cell_type": "code",
   "execution_count": 6,
   "id": "0011552c-e1fe-4f80-9713-ea45e933a84d",
   "metadata": {
    "tags": []
   },
   "outputs": [],
   "source": [
    "# Dependencies\n",
    "\n",
    "import pandas as pd\n",
    "import os\n",
    "import pathlib\n",
    "from pathlib import Path\n",
    "import glob\n",
    "import seaborn as sns\n",
    "import pickle\n",
    "import boto3"
   ]
  },
  {
   "cell_type": "code",
   "execution_count": 7,
   "id": "6101ea57-6677-4866-bcc7-1c17b7f747a7",
   "metadata": {
    "tags": []
   },
   "outputs": [],
   "source": [
    "from sagemaker import get_execution_role\n",
    "role = get_execution_role"
   ]
  },
  {
   "cell_type": "code",
   "execution_count": 13,
   "id": "c2dac6d5-88dd-4f2a-9bec-d220502df791",
   "metadata": {
    "tags": []
   },
   "outputs": [],
   "source": [
    "bucket = 'ads508-team1'\n",
    "subfolder = ''\n",
    "# path = ## ADD s3 path\n",
    "# s3client = boto3.client('s3')\n",
    "# response = s3client.get_object(Bucket=bucket, Key=path)\n",
    "# body = response['Body']\n",
    "\n",
    "# data = pickle.loads(body.read())"
   ]
  },
  {
   "cell_type": "code",
   "execution_count": 19,
   "id": "60170fc9-7508-4298-ba2c-6a9fcf6234e5",
   "metadata": {
    "tags": []
   },
   "outputs": [],
   "source": [
    "# Import CSVs as a list of dataframes\n",
    "\n",
    "path = Path('./data/')\n",
    "csv_files = glob.glob(os.path.join(path, \"*.csv\"))\n",
    "df_list = [pd.read_csv(file) for file in csv_files]"
   ]
  },
  {
   "cell_type": "markdown",
   "id": "e7ad2a08-fde0-43c0-89f3-9a5555cddd0c",
   "metadata": {},
   "source": [
    "## Exploratory Analysis"
   ]
  },
  {
   "cell_type": "markdown",
   "id": "84ede039-e2da-48fe-bca3-057733018d93",
   "metadata": {},
   "source": [
    "### File Discovery"
   ]
  },
  {
   "cell_type": "code",
   "execution_count": 20,
   "id": "946edbbd-4bc5-4329-81c9-a1936106c33b",
   "metadata": {
    "tags": []
   },
   "outputs": [],
   "source": [
    "# List of CSV file names\n",
    "\n",
    "csv_names = ['serv_calls_22', 'disp_codes', 'call_codes', 'beat_codes', 'serv_calls_23']"
   ]
  },
  {
   "cell_type": "code",
   "execution_count": 21,
   "id": "3b4c010f-a7b7-4c29-bdde-16358bc9ec72",
   "metadata": {
    "tags": []
   },
   "outputs": [],
   "source": [
    "def get_byte_size(df):\n",
    "    ''' Takes a dataframe and converts its byte size to KB. '''\n",
    "    k_bytes = round(df.memory_usage(index=True).sum() / 1000, 2)\n",
    "    return k_bytes"
   ]
  },
  {
   "cell_type": "code",
   "execution_count": 22,
   "id": "e03d0aa3-4ab2-4322-bbdd-dc8489350177",
   "metadata": {
    "tags": []
   },
   "outputs": [
    {
     "data": {
      "text/plain": [
       "{'serv_calls_22': '10418.03 kb',\n",
       " 'disp_codes': '2.13 kb',\n",
       " 'call_codes': '0.42 kb',\n",
       " 'beat_codes': '11.69 kb',\n",
       " 'serv_calls_23': '55916.8 kb'}"
      ]
     },
     "execution_count": 22,
     "metadata": {},
     "output_type": "execute_result"
    }
   ],
   "source": [
    "# Dictionary of CSV file sizes\n",
    "\n",
    "byte_dict = {k: f\"{get_byte_size(i)} kb\" for i,k in zip(df_list, csv_names)}\n",
    "byte_dict"
   ]
  },
  {
   "cell_type": "code",
   "execution_count": 36,
   "id": "94bed596-b6b8-4471-b1b6-6570e36b98e9",
   "metadata": {
    "tags": []
   },
   "outputs": [],
   "source": [
    "# Rename input dataframes\n",
    "\n",
    "serv_calls_23 = df_list[0]\n",
    "beat_codes = df_list[1]\n",
    "disp_codes = df_list[2]\n",
    "call_codes = df_list[3]\n",
    "serv_calls_22 = df_list[4]"
   ]
  },
  {
   "cell_type": "code",
   "execution_count": 37,
   "id": "68f71e0d-b89b-428e-b1b7-a4cbf7c0ed29",
   "metadata": {
    "tags": []
   },
   "outputs": [],
   "source": [
    "# Assign Names to Service Call dataframes\n",
    "serv_calls_22.name = 'Service Calls 2022'\n",
    "serv_calls_23.name = 'Service Calls 2023'"
   ]
  },
  {
   "cell_type": "markdown",
   "id": "b02e14f4-70ea-44aa-bcde-b9a4b083ef95",
   "metadata": {},
   "source": [
    "### Service Call Table Examination"
   ]
  },
  {
   "cell_type": "markdown",
   "id": "ab96f10a-ec8e-4077-a32f-9920bb6265fd",
   "metadata": {},
   "source": [
    "#### Service Calls '22"
   ]
  },
  {
   "cell_type": "code",
   "execution_count": 38,
   "id": "541122ed-104f-4dad-a605-642c08a08957",
   "metadata": {
    "tags": []
   },
   "outputs": [
    {
     "name": "stdout",
     "output_type": "stream",
     "text": [
      "<class 'pandas.core.frame.DataFrame'>\n",
      "RangeIndex: 499256 entries, 0 to 499255\n",
      "Data columns (total 14 columns):\n",
      " #   Column                     Non-Null Count   Dtype  \n",
      "---  ------                     --------------   -----  \n",
      " 0   incident_num               499256 non-null  object \n",
      " 1   date_time                  499256 non-null  object \n",
      " 2   day_of_week                499256 non-null  int64  \n",
      " 3   address_number_primary     499256 non-null  int64  \n",
      " 4   address_dir_primary        23135 non-null   object \n",
      " 5   address_road_primary       499187 non-null  object \n",
      " 6   address_sfx_primary        455019 non-null  object \n",
      " 7   address_dir_intersecting   0 non-null       float64\n",
      " 8   address_road_intersecting  85382 non-null   object \n",
      " 9   address_sfx_intersecting   0 non-null       float64\n",
      " 10  call_type                  498640 non-null  object \n",
      " 11  disposition                497161 non-null  object \n",
      " 12  beat                       499256 non-null  int64  \n",
      " 13  priority                   499256 non-null  int64  \n",
      "dtypes: float64(2), int64(4), object(8)\n",
      "memory usage: 53.3+ MB\n"
     ]
    }
   ],
   "source": [
    "serv_calls_22.info()"
   ]
  },
  {
   "cell_type": "code",
   "execution_count": 39,
   "id": "ada75c8d-21ba-41d7-bd15-06a2e313ddd8",
   "metadata": {
    "tags": []
   },
   "outputs": [
    {
     "name": "stdout",
     "output_type": "stream",
     "text": [
      "<class 'pandas.core.frame.DataFrame'>\n",
      "RangeIndex: 93017 entries, 0 to 93016\n",
      "Data columns (total 14 columns):\n",
      " #   Column                     Non-Null Count  Dtype  \n",
      "---  ------                     --------------  -----  \n",
      " 0   incident_num               93017 non-null  object \n",
      " 1   date_time                  93017 non-null  object \n",
      " 2   day_of_week                93017 non-null  int64  \n",
      " 3   address_number_primary     93017 non-null  int64  \n",
      " 4   address_dir_primary        4504 non-null   object \n",
      " 5   address_road_primary       93005 non-null  object \n",
      " 6   address_sfx_primary        84748 non-null  object \n",
      " 7   address_dir_intersecting   0 non-null      float64\n",
      " 8   address_road_intersecting  15173 non-null  object \n",
      " 9   address_sfx_intersecting   0 non-null      float64\n",
      " 10  call_type                  92929 non-null  object \n",
      " 11  disposition                92738 non-null  object \n",
      " 12  beat                       93017 non-null  int64  \n",
      " 13  priority                   93017 non-null  int64  \n",
      "dtypes: float64(2), int64(4), object(8)\n",
      "memory usage: 9.9+ MB\n"
     ]
    }
   ],
   "source": [
    "serv_calls_23.info()"
   ]
  },
  {
   "cell_type": "code",
   "execution_count": 40,
   "id": "ec418e66-f4a9-4c75-9249-274527988e30",
   "metadata": {
    "tags": []
   },
   "outputs": [],
   "source": [
    "# Examining the Primary Address fields\n",
    "adp_df = pd.DataFrame({'adp': [], 'adp_len': []})\n",
    "\n",
    "adp_df['anp'] = serv_calls_22['address_number_primary'].where(serv_calls_22['address_dir_primary'].notnull())\n",
    "adp_df['adp'] = serv_calls_22['address_dir_primary'].dropna(axis=0, inplace=False)\n",
    "adp_df['adp_len'] = adp_df['adp'].str.len()\n",
    "adp_df['arp'] = serv_calls_22['address_road_primary'].where(serv_calls_22['address_dir_primary'].notnull())\n",
    "adp_df['asp'] = serv_calls_22['address_sfx_primary'].where(serv_calls_22['address_dir_primary'].notnull())\n",
    "\n",
    "adp_df.dropna(inplace=True)"
   ]
  },
  {
   "cell_type": "code",
   "execution_count": 41,
   "id": "5e893d41-259a-48a4-a193-f288d5f1a4c4",
   "metadata": {
    "tags": []
   },
   "outputs": [
    {
     "data": {
      "text/html": [
       "<div>\n",
       "<style scoped>\n",
       "    .dataframe tbody tr th:only-of-type {\n",
       "        vertical-align: middle;\n",
       "    }\n",
       "\n",
       "    .dataframe tbody tr th {\n",
       "        vertical-align: top;\n",
       "    }\n",
       "\n",
       "    .dataframe thead th {\n",
       "        text-align: right;\n",
       "    }\n",
       "</style>\n",
       "<table border=\"1\" class=\"dataframe\">\n",
       "  <thead>\n",
       "    <tr style=\"text-align: right;\">\n",
       "      <th></th>\n",
       "      <th>adp</th>\n",
       "      <th>adp_len</th>\n",
       "      <th>anp</th>\n",
       "      <th>arp</th>\n",
       "      <th>asp</th>\n",
       "    </tr>\n",
       "  </thead>\n",
       "  <tbody>\n",
       "    <tr>\n",
       "      <th>66</th>\n",
       "      <td>S</td>\n",
       "      <td>1.0</td>\n",
       "      <td>400.0</td>\n",
       "      <td>46TH</td>\n",
       "      <td>ST</td>\n",
       "    </tr>\n",
       "    <tr>\n",
       "      <th>191</th>\n",
       "      <td>S</td>\n",
       "      <td>1.0</td>\n",
       "      <td>900.0</td>\n",
       "      <td>30TH</td>\n",
       "      <td>ST</td>\n",
       "    </tr>\n",
       "    <tr>\n",
       "      <th>209</th>\n",
       "      <td>S</td>\n",
       "      <td>1.0</td>\n",
       "      <td>0.0</td>\n",
       "      <td>30TH</td>\n",
       "      <td>ST</td>\n",
       "    </tr>\n",
       "    <tr>\n",
       "      <th>219</th>\n",
       "      <td>E</td>\n",
       "      <td>1.0</td>\n",
       "      <td>700.0</td>\n",
       "      <td>SAN YSIDRO</td>\n",
       "      <td>BLV</td>\n",
       "    </tr>\n",
       "    <tr>\n",
       "      <th>244</th>\n",
       "      <td>S</td>\n",
       "      <td>1.0</td>\n",
       "      <td>0.0</td>\n",
       "      <td>FRANCIS</td>\n",
       "      <td>ST</td>\n",
       "    </tr>\n",
       "  </tbody>\n",
       "</table>\n",
       "</div>"
      ],
      "text/plain": [
       "    adp  adp_len    anp         arp  asp\n",
       "66    S      1.0  400.0        46TH   ST\n",
       "191   S      1.0  900.0        30TH   ST\n",
       "209   S      1.0    0.0        30TH   ST\n",
       "219   E      1.0  700.0  SAN YSIDRO  BLV\n",
       "244   S      1.0    0.0     FRANCIS   ST"
      ]
     },
     "execution_count": 41,
     "metadata": {},
     "output_type": "execute_result"
    }
   ],
   "source": [
    "adp_df.head()"
   ]
  },
  {
   "cell_type": "code",
   "execution_count": 42,
   "id": "ad0cca3a-2f07-4bf0-9c86-2075f7c82689",
   "metadata": {
    "tags": []
   },
   "outputs": [],
   "source": [
    "# Examining the Intersecting Address fields\n",
    "aip_df = pd.DataFrame({})\n",
    "\n",
    "aip_df['adi'] = serv_calls_22['address_road_intersecting'].dropna(axis=0, inplace=False)\n",
    "aip_df['ari'] = serv_calls_22['address_dir_intersecting'].where(serv_calls_22['address_road_intersecting'].notnull())\n",
    "aip_df['asi'] = serv_calls_22['address_sfx_intersecting'].where(serv_calls_22['address_road_intersecting'].notnull())\n",
    "\n",
    "aip_df.dropna(inplace=True)"
   ]
  },
  {
   "cell_type": "code",
   "execution_count": 43,
   "id": "40cfcf64-0f1b-4187-a008-36230664029c",
   "metadata": {
    "tags": []
   },
   "outputs": [
    {
     "data": {
      "text/html": [
       "<div>\n",
       "<style scoped>\n",
       "    .dataframe tbody tr th:only-of-type {\n",
       "        vertical-align: middle;\n",
       "    }\n",
       "\n",
       "    .dataframe tbody tr th {\n",
       "        vertical-align: top;\n",
       "    }\n",
       "\n",
       "    .dataframe thead th {\n",
       "        text-align: right;\n",
       "    }\n",
       "</style>\n",
       "<table border=\"1\" class=\"dataframe\">\n",
       "  <thead>\n",
       "    <tr style=\"text-align: right;\">\n",
       "      <th></th>\n",
       "      <th>adi</th>\n",
       "      <th>ari</th>\n",
       "      <th>asi</th>\n",
       "    </tr>\n",
       "  </thead>\n",
       "  <tbody>\n",
       "  </tbody>\n",
       "</table>\n",
       "</div>"
      ],
      "text/plain": [
       "Empty DataFrame\n",
       "Columns: [adi, ari, asi]\n",
       "Index: []"
      ]
     },
     "execution_count": 43,
     "metadata": {},
     "output_type": "execute_result"
    }
   ],
   "source": [
    "aip_df.head()"
   ]
  },
  {
   "cell_type": "code",
   "execution_count": 44,
   "id": "52ca9e23-4182-40b6-9414-9d8c77366730",
   "metadata": {
    "tags": []
   },
   "outputs": [],
   "source": [
    "def count_missing(df):\n",
    "    ''' Count number of missing values for each DF column '''\n",
    "    na_nums = df.isna().sum()\n",
    "    na_plot = na_nums.reset_index(name=\"Count\").plot.bar(x='index', y='Count', title='Service Calls', rot=90)\n",
    "    \n",
    "    return na_nums, na_plot"
   ]
  },
  {
   "cell_type": "code",
   "execution_count": 45,
   "id": "ff8bbdf1-5d4b-4dd1-8177-c876c02a20b5",
   "metadata": {
    "tags": []
   },
   "outputs": [
    {
     "data": {
      "text/plain": [
       "(incident_num                      0\n",
       " date_time                         0\n",
       " day_of_week                       0\n",
       " address_number_primary            0\n",
       " address_dir_primary          476121\n",
       " address_road_primary             69\n",
       " address_sfx_primary           44237\n",
       " address_dir_intersecting     499256\n",
       " address_road_intersecting    413874\n",
       " address_sfx_intersecting     499256\n",
       " call_type                       616\n",
       " disposition                    2095\n",
       " beat                              0\n",
       " priority                          0\n",
       " dtype: int64,\n",
       " <matplotlib.axes._subplots.AxesSubplot at 0x7f22027260d0>)"
      ]
     },
     "execution_count": 45,
     "metadata": {},
     "output_type": "execute_result"
    },
    {
     "data": {
      "image/png": "[encoded data removed]",
      "text/plain": [
       "<Figure size 640x480 with 1 Axes>"
      ]
     },
     "metadata": {},
     "output_type": "display_data"
    }
   ],
   "source": [
    "%matplotlib inline \n",
    "count_missing(serv_calls_22)"
   ]
  },
  {
   "cell_type": "code",
   "execution_count": 46,
   "id": "c35b506c-fb5a-4353-95ec-670272516107",
   "metadata": {
    "tags": []
   },
   "outputs": [
    {
     "data": {
      "text/plain": [
       "(incident_num                     0\n",
       " date_time                        0\n",
       " day_of_week                      0\n",
       " address_number_primary           0\n",
       " address_dir_primary          88513\n",
       " address_road_primary            12\n",
       " address_sfx_primary           8269\n",
       " address_dir_intersecting     93017\n",
       " address_road_intersecting    77844\n",
       " address_sfx_intersecting     93017\n",
       " call_type                       88\n",
       " disposition                    279\n",
       " beat                             0\n",
       " priority                         0\n",
       " dtype: int64,\n",
       " <matplotlib.axes._subplots.AxesSubplot at 0x7f220283a610>)"
      ]
     },
     "execution_count": 46,
     "metadata": {},
     "output_type": "execute_result"
    },
    {
     "data": {
      "image/png": "[encoded data removed]",
      "text/plain": [
       "<Figure size 640x480 with 1 Axes>"
      ]
     },
     "metadata": {},
     "output_type": "display_data"
    }
   ],
   "source": [
    "%matplotlib inline \n",
    "count_missing(serv_calls_23)"
   ]
  },
  {
   "cell_type": "code",
   "execution_count": 47,
   "id": "91e75c14-942d-41e3-a159-c3dcc625ba4f",
   "metadata": {
    "tags": []
   },
   "outputs": [
    {
     "data": {
      "text/plain": [
       "array(['Clairemont Mesa East', 'Clairemont Mesa West', 'Bay Ho',\n",
       "       'North Clairemont', 'University City', 'Bay Park', 'Mission Beach',\n",
       "       'Pacific Beach', 'Mission Bay Park', 'La Jolla', 'Torrey Pines',\n",
       "       'Sabre Springs', 'Carmel Mountain', 'Rancho Penasquitos',\n",
       "       'Rancho Bernardo', 'San Pasqual', 'Scripps Ranch', 'Mira Mesa',\n",
       "       'Miramar', 'Rancho Encantada', 'Miramar Ranch North', 'Serra Mesa',\n",
       "       'Tierrasanta', 'Kearny Mesa', 'Birdland', 'Mission Valley East',\n",
       "       'Qualcomm', 'Grantville', 'Allied Gardens', 'Del Cerro',\n",
       "       'Lake Murray', 'San Carlos', 'College West', 'College East',\n",
       "       'Emerald Hills', 'Valencia Park', 'Encanto', 'Jamacha/Lomita',\n",
       "       'Broadway Heights', 'Skyline', 'Bay Terraces', 'Paradise Hills',\n",
       "       'Alta Vista', 'Mountain View', 'Southcrest', 'Shelltown',\n",
       "       'Mt. Hope', 'Chollas View', 'Lincoln Park', 'Ridgeview/Webster',\n",
       "       'Oak Park', \"O'Farrell\", 'Barrio Logan', 'Logan Heights',\n",
       "       'Sherman Heights', 'Grant Hill', 'Stockton', 'Golden Hill',\n",
       "       'South Park', 'East Village', 'Marina', 'Gaslamp', 'Core-Columbia',\n",
       "       'Horton Plaza', 'Cortez', 'Harborview', 'Little Italy',\n",
       "       'Park West', 'Balboa Park', 'Petco Park', 'Midway District',\n",
       "       'Loma Portal', 'Point Loma Heights', 'Ocean Beach',\n",
       "       'Roseville/Fleet Ridge', 'La Playa', 'Wooded Area',\n",
       "       'Sunset Cliffs', 'Linda Vista', 'Morena', 'Mission Valley West',\n",
       "       'University Heights', 'Old Town', 'Mission Hills', 'Hillcrest',\n",
       "       'Midtown', 'Tijuana River Valley', 'San Ysidro', 'Otay Mesa',\n",
       "       'Border', 'Egger Highlands', 'Nestor', 'Otay Mesa West',\n",
       "       'Palm City', 'Ocean Crest', 'Normal Heights', 'Burlingame',\n",
       "       'North Park', 'Adams North', 'Rolando', 'El Cerrito',\n",
       "       'Redwood Village', 'Talmadge', 'Kensington', 'Colina del Sol',\n",
       "       'Chollas Creek', 'Fox Canyon', 'Islenair', 'Teralta East',\n",
       "       'Teralta West', 'Fairmount Village', 'Castle',\n",
       "       'Azalea/Hollywood Park', 'Swan Canyon', 'Fairmount Park',\n",
       "       'Corridor', 'Cherokee Point', 'Rolando Park', 'Sorrento Valley',\n",
       "       'Torrey Preserve', 'Del Mar Heights', 'Carmel Valley',\n",
       "       'North City', 'Torrey Highlands', 'Black Mountain Ranch'],\n",
       "      dtype=object)"
      ]
     },
     "execution_count": 47,
     "metadata": {},
     "output_type": "execute_result"
    }
   ],
   "source": [
    "# List all the neighborhoods in San Diego\n",
    "\n",
    "beat_codes['neighborhood'].unique()"
   ]
  },
  {
   "cell_type": "code",
   "execution_count": 48,
   "id": "c181a7a8-71c8-4182-a083-8bdece846466",
   "metadata": {
    "tags": []
   },
   "outputs": [
    {
     "data": {
      "text/plain": [
       "array(['PRISONER IN CUSTODY', 'PTU (PRISONER TRANSPORT)',\n",
       "       'SHOPLIFTER/QUICK CITE', 'PHONE YOUR STATION', 'PHONE YOUR HOME',\n",
       "       'AUTO THEFT', 'EVAL-POSS UNREPORTED CAR THEFT', 'CAR THEFT REPORT',\n",
       "       'CAR THEFT RECOVERY REPORT', 'TAMPERING W/VEH IN PROGRESS',\n",
       "       'VEHICLE ALARM/AUDIBLE', 'VEHICLE CASER', 'TAMPERING W/VEH REPORT',\n",
       "       'MEET OFFICER NON URGENT', 'DISCHARGING FIREARMS',\n",
       "       'DISCHARGING FIREARM SHOT SPOTTER ACTIVATION', 'PROWLER',\n",
       "       'PERSON DOWN', 'REPORT OF CRIME OCCD MEXICO', 'CHECK THE AREA',\n",
       "       'BALL GAME IN STREET(83 03MC)', 'INCOMPLETE PHONE CALL',\n",
       "       'CALLING FOR HELP', 'CALLING FOR HELP-PANIC ALARM',\n",
       "       'AMBULANCE CALL, OVERDOSE', 'AMBULANCE NEEDED', \"CORONER'S CASE\",\n",
       "       'REPORT OF DEATH', 'INJURED PERSON', 'FURNISH TRANSPORTATION',\n",
       "       'TRAFFIC STOP/NO LICENSE', 'TRAFFIC STOP/WITH LICENSE',\n",
       "       'PED STOP/FIELD INTERVIEW', 'SECURITY CHECK',\n",
       "       'HAZARDOUS/CHEMICAL SPILL', 'INVESTIGATE WATER LEAK',\n",
       "       'SIGNALS OUT OF ORDER', 'FIRE', 'SERIOUS INJURY ACCIDENT',\n",
       "       'SERIOUS INJ ACCIDENT-COST RECOVERY', 'MINOR INJURY ACCIDENT',\n",
       "       'MINOR INJURY ACCIDENT-COST RECOVERY',\n",
       "       'MINOR TRAFFIC INJURY, REPORT', 'NON-INJURY ACCIDENT',\n",
       "       'NON-INJURY ACCIDENT-COST RECOVERY', 'NO DETAIL ACCIDENT',\n",
       "       'TRAFFIC CONTROL', 'TRAFFIC CONTROL-COST RECOVERY',\n",
       "       'REQUEST FOR TOW TRUCK', 'SPECIAL DETAIL',\n",
       "       'ASSIST DISABLED MOTORIST', 'OFFICER NEEDS HELP',\n",
       "       'INTIMIDATION OF WITNESS', 'IMPERSONATING AN OFFICER',\n",
       "       'IMPERSONATING AN OFFICER,RPT', 'MURDER', '187 SUSPECT THERE NOW',\n",
       "       'FELONY HIT&RUN', 'FELONY HIT/RUN-COST RECOVERY', 'MISD HIT/RUN',\n",
       "       'MISD HIT/RUN-COST RECOVERY', 'HIT AND RUN REPORT',\n",
       "       'KIDNAPPING IN PROGRESS', 'KIDNAPPING REPORT', 'ROBBERY',\n",
       "       '211 SUSPECT THERE NOW', 'ROBBERY ALARM', 'ROBBERY CASER',\n",
       "       'ROBBERY REPORT', 'ROBBERY-GPS DEVICE', 'CAR JACKING',\n",
       "       'CARJACKING REPORT', 'RECKLESS DRIVING',\n",
       "       'THROWING OBJECTS AT AN OCC VEH',\n",
       "       'THROWING OBJECTS AT AN OCC VEH REPORT', 'DUI',\n",
       "       'DUI-COST RECOVERY', 'BATTERY', 'BATTERY REPORT', 'ADW',\n",
       "       'ADW-COST RECOVERY', '245 SUSPECT THERE NOW',\n",
       "       'ADW DOMESTIC VIOLENCE RELATED', 'ADW REPORT',\n",
       "       \"FIRING AT OCCP'D HSE/VEH\", \"FIRING AT OCCP'D HSE/VEH 1110\",\n",
       "       'FIRING AT UNOCCUPIED VEH', 'FIRING AT UNOCCPD VEH/HSE 1110',\n",
       "       'CHILD DESERTION', 'CONTRIBUTING DELINQ MINOR', 'CHILD STEALING',\n",
       "       'CHILD STEALING REPORT', 'INDECENT EXPOSURE',\n",
       "       'INDECENT EXPOSURE REPORT', 'GAMBLING', 'ABUSE OF ELDER ADULT',\n",
       "       'LITTERING', 'ABANDONED REFRIGERATOR', 'DISTURBING PEACE',\n",
       "       'DIST PEACE-CAPP HOUSE', 'CONSTRUCTION NOISE COMPLAINT',\n",
       "       'DOMESTIC VIOL/OCCURRING NOW', 'DISTURBING PEACE NOISE ONLY',\n",
       "       'DISTURB PEACE/NOISE-COST RECOVERY', 'PRESERVE THE PEACE',\n",
       "       'SOCIAL HOST-COST RECOVERY', 'DISTURBING PEACE RE: TOWING',\n",
       "       'DISTURBING PEACE W/VIOLENCE', 'DISTURBING PEACE UNCONC WEAPON',\n",
       "       'THREATENING W/WEAPON', 'THREATENING W/WEAPON REPORT',\n",
       "       'CRIMINAL THREATS', 'CRIMINAL THREATS REPORT', 'ARSON IN PROGRESS',\n",
       "       'ARSON REPORT', 'BURGLARY IN PROGRESS', '459 SUSPECT THERE NOW',\n",
       "       'BURGLARY ALARM', 'BURGLARY CASER', 'BURGLARY HOT PROWL',\n",
       "       'BURGLARY REPORT', 'BURGLARY-GPS DEVICE', 'FORGERY IN PROGRESS',\n",
       "       'FORGERY REPORT', 'FORGERY OF RX-SUSP THERE NOW',\n",
       "       'GRAND THEFT $950+', 'GRAND THEFT/REPORT $950+',\n",
       "       'PETTY THEFT/UNDER $950', 'PETTY THEFT REPORT/UNDER $950',\n",
       "       'RECEIVE/SELL STOLEN PROP', 'THEFT OF UTILITIES IN PROGRESS',\n",
       "       'THEFT OF UTILITIES REPORT', 'COMPUTER CRIMES - TRU USE ONLY',\n",
       "       'STOLEN VEHICLE LOG', 'EMBEZZLEMENT, REPORT', 'MENTAL CASE',\n",
       "       'MENTAL CASE-VIOLENT OR URGENT', 'EXTORTION, REPORT',\n",
       "       'FALSE USE OF ANOTHERS IDENTITY', 'FRAUD SOLICITATION/CHARITIES',\n",
       "       'DEFRAUDING INNKEEPER, IN PROGR', 'DEFRAUDING INNKEEPER REPORT',\n",
       "       'ILLEGAL PARKING', 'ILLEGAL PARKING-HANDICAPPED',\n",
       "       'ILLEGAL OVO PARKING', 'VANDALISM, IN PROGRESS',\n",
       "       'GRAFFITI VANDALISM REPORT', 'VANDALISM, REPORT',\n",
       "       'VANDALISM,ALARM', 'RUNAWAY VEHICLE',\n",
       "       'CRUELTY TO ANIMALS, IN PROGRES', 'CRUELTY TO ANIMALS, REPORT',\n",
       "       'TRESPASSING', 'STALKING', 'STALKING REPORT', 'PROSTITUTION',\n",
       "       'DRUNK - DRUGS/ALCOHOL', 'THREATENING PHONE CALL, REPORT',\n",
       "       'VEH VIOLATING 72HR PARKING RES', 'UNK EMERG, HANG UP/OPEN LINE',\n",
       "       'UNK EMER,HANGUP/OPEN,PAYFONE', 'AIRPLANE PROBLEM',\n",
       "       'AIRPLANE CRASH', 'BOMB/HIJACK THREAT', 'AMBER ALERT INFO',\n",
       "       'VICIOUS ANIMAL', 'APPOINTMENT', 'ASSIST THE INVALID',\n",
       "       'MISSING PERSON ALL UNITS INFO', 'ALL UNITS INFORMATION-PRI 1',\n",
       "       'AUTO THEFT ALL UNITS INFO', 'ALL UNITS FIRE INFO-PRI 1',\n",
       "       'MURDER-ALL UNITS INFORMATION', 'ALL UNITS INFORMATION-PRI 2',\n",
       "       'ROBBERY-ALL UNITS INFORMATION', 'CAR JACK-ALL UNITS INFORMATION',\n",
       "       'RECKLESS DRIVING-ALL UNITS', 'DUI-ALL UNITS INFORMATION',\n",
       "       'ADW-ALL UNITS INFORMATION', 'HATE INCIDENT ALL UNITS INF',\n",
       "       'DOCKLESS BIKE COMPLAINT', 'BIOHAZARD-DESK CALL',\n",
       "       '((ANTHRAX ALARM)))', 'BLOOD RUN', 'TAXI OR BUS NEEDS HELP',\n",
       "       'AU INFO/USED BY DESK OR RADIO', 'BOMB THREAT, DESK CALL',\n",
       "       'BOMB THREAT, DESK CALL (SCHOOL)', 'SWAT STAGING',\n",
       "       'ATTACK ON PD FACILITY', 'SWAT STAGING-COST RECOVERY',\n",
       "       'SWAT EMERGENCY RESPONSE', 'STAKEOUT',\n",
       "       'STAYOUT OF AREA/NO RADIO TRANS', 'CITIZEN CONTACT',\n",
       "       'CHRONIC COMM CALLER CONTROL', \"CITIZEN'S COMPLAINT INVESTIGAT\",\n",
       "       \"CITIZEN'S COMPLAINT SPEC EVENT\", 'CCF-PB BLOCK PARTY',\n",
       "       'CCF-ROCK N ROLL MARATHON', 'CARRYING CONCEALED WEAPON',\n",
       "       'ISSUE CITATION', 'COURT', 'COVER NOW', 'COVER NOW-COST RECOVERY',\n",
       "       'CHECK THE WELFARE', 'DESK CALL', 'DESK CALL (SCHOOL)',\n",
       "       'DEMONSTRATION CALLS', 'ILLEGAL STREET RACING',\n",
       "       'HOMELAND SECURITY CHECKS', 'EJECTED FROM AN EVENT',\n",
       "       'ESCAPE/ESCAPEE', 'EVACUATE CITIZENS', 'PICK UP EVIDENCE',\n",
       "       'EXPLOSION', 'FRONT COUNTER CLOSURES', 'FLAG DOWN/FIELD INITIATED',\n",
       "       'FIREWORK HAZARD', 'ALL UNITS INFORMATION', 'FOUND JUVENILE',\n",
       "       'FOOT PATROL/FIELD INITIATED', 'FOUND PROPERTY', 'FOOT PURSUIT',\n",
       "       'WARRANT', 'FOUND SENILE', 'FOLLOW-UP BY FIELD UNIT',\n",
       "       'GPS PAROLE VIOLATION', 'HATE CRIME INVESTIGATION',\n",
       "       'HAZARDOUS CONDITION', 'INFORMATION FOR DISPATCHERS',\n",
       "       'INFORMATION FOR CHP', 'INFO ON TRAFFIC,HIT & RUN-ADVISED EVENT',\n",
       "       'EXTRA PATROL INFO FOR FIELD SGT-ADVISED EVENT',\n",
       "       'JUVENILE SERVICE TEAM HOTLINE', 'ILLEGAL USE OF LASER ',\n",
       "       'STOLEN VEH-LOJACK', 'REPORT OF LOST PROPERTY/PLATE',\n",
       "       'LIAISON UNITS VISITING MEXICO', 'MOBILE FIELD FORCE ACTIVATION',\n",
       "       'MISSING JUV OF TENDER YEARS', 'MISSING PERSON, REPORT EVAL',\n",
       "       'TRAFFIC STOP FROM THE MOBILE COMPUTER', 'MISSING SENILE',\n",
       "       'IN A MEETING/OUT OF SERVICE', 'INTERAGAENCY MUTUAL AID',\n",
       "       'NARCOTICS ACTIVITY', 'REQUEST FOR NON URGENT COVER',\n",
       "       'NON URGENT COVER-COST RECOVERY', 'OVERSIZED VEHICLE ORDINANCE',\n",
       "       'FINISH 1110/FIELD INITIATED', 'LOUD PARTY',\n",
       "       'LOUD PARTY-COST RECOVERY', 'LOST/STOLEN PLATE ',\n",
       "       'PROBLEM ORIENTED POLICING', 'BORDER/PORT RUNNER A/U',\n",
       "       'PRT ASSIST', 'CRIME CASE NUMBER REQUEST', 'RESCUE CITIZENS',\n",
       "       'RUNAWAY JUVENILE, REPORT', 'ROUTE SLIP (FLD INVESTIGATION)',\n",
       "       'ROCK N ROLL MARATHON', 'ROCK N ROLL 1185', 'ROCK N ROLL CCF',\n",
       "       'VEHICLES TOWED DUE TO RRM', 'TICKET SCALPER', 'SCHOOL DETAIL',\n",
       "       'SELECTIVE ENFORCEMENT', 'INFORMATION FOR SHOPS', 'SIGALERT',\n",
       "       'SKATEBOARDERS', 'SLEEPER', 'STREET INFORMATION',\n",
       "       'TRAFFIC STOP WITH PLATE', 'TAGGER VANDALISM, IN PROGRESS',\n",
       "       'TARASOFF REPORT', 'TERRORISM LIAISON OFFICER', 'TRAFFIC PURSUIT',\n",
       "       'TRO VIOLATION, REPORT', 'VARDA ALARM'], dtype=object)"
      ]
     },
     "execution_count": 48,
     "metadata": {},
     "output_type": "execute_result"
    }
   ],
   "source": [
    "# List all the neighborhoods in San Diego\n",
    "\n",
    "call_codes['description'].unique()"
   ]
  },
  {
   "cell_type": "markdown",
   "id": "261cbfe8-1765-4093-86a7-eae5fd9ea855",
   "metadata": {},
   "source": [
    "Selected Call Type Codes\n",
    "\n",
    "* 5150 - Mental Health\n",
    "* 5150V - Mental Health - Violent or Urgent\n",
    "* FS - Found Senile\n",
    "* Rescue - Rescue Citizens"
   ]
  },
  {
   "cell_type": "code",
   "execution_count": 49,
   "id": "2fad4cac-0077-4d50-b2b0-177071e974d2",
   "metadata": {
    "tags": []
   },
   "outputs": [],
   "source": [
    "# Call Type Codes related to substance abuse, mental health, suicide\n",
    "\n",
    "crisis_response = ['5150', '5150V', 'FS', 'RESCUE']\n",
    "\n",
    "# Select Rows containing these call type codes\n",
    "cr_df = serv_calls_22[serv_calls_22['call_type'].isin(crisis_response)]"
   ]
  },
  {
   "cell_type": "code",
   "execution_count": 67,
   "id": "d101f623-cb93-49ca-9f13-fabaff9f05e6",
   "metadata": {
    "tags": []
   },
   "outputs": [],
   "source": [
    "# Look into distribution of call types related to substance abuse, mental health, and suicide response\n",
    "\n",
    "\n",
    "# sns.histplot(data = cr_df, x = 'call_type')"
   ]
  },
  {
   "cell_type": "code",
   "execution_count": 51,
   "id": "dea97162-dbd7-436f-862c-2352902a30af",
   "metadata": {
    "tags": []
   },
   "outputs": [
    {
     "data": {
      "text/plain": [
       "<matplotlib.axes._subplots.AxesSubplot at 0x7f220266dbd0>"
      ]
     },
     "execution_count": 51,
     "metadata": {},
     "output_type": "execute_result"
    },
    {
     "data": {
      "image/png": "[encoded data removed]",
      "text/plain": [
       "<Figure size 640x480 with 1 Axes>"
      ]
     },
     "metadata": {},
     "output_type": "display_data"
    }
   ],
   "source": [
    "# Look into if calls fluctuate based on the day of week\n",
    "\n",
    "sns.countplot(x= 'call_type', hue = 'day_of_week', data = cr_df)"
   ]
  },
  {
   "cell_type": "code",
   "execution_count": 52,
   "id": "18798115-5d9c-4275-b337-b5bff86e34d4",
   "metadata": {
    "tags": []
   },
   "outputs": [
    {
     "data": {
      "text/html": [
       "<div>\n",
       "<style scoped>\n",
       "    .dataframe tbody tr th:only-of-type {\n",
       "        vertical-align: middle;\n",
       "    }\n",
       "\n",
       "    .dataframe tbody tr th {\n",
       "        vertical-align: top;\n",
       "    }\n",
       "\n",
       "    .dataframe thead th {\n",
       "        text-align: right;\n",
       "    }\n",
       "</style>\n",
       "<table border=\"1\" class=\"dataframe\">\n",
       "  <thead>\n",
       "    <tr style=\"text-align: right;\">\n",
       "      <th></th>\n",
       "      <th>call_type</th>\n",
       "    </tr>\n",
       "  </thead>\n",
       "  <tbody>\n",
       "    <tr>\n",
       "      <th>5150</th>\n",
       "      <td>13406</td>\n",
       "    </tr>\n",
       "    <tr>\n",
       "      <th>5150V</th>\n",
       "      <td>2676</td>\n",
       "    </tr>\n",
       "    <tr>\n",
       "      <th>FS</th>\n",
       "      <td>261</td>\n",
       "    </tr>\n",
       "    <tr>\n",
       "      <th>RESCUE</th>\n",
       "      <td>24</td>\n",
       "    </tr>\n",
       "  </tbody>\n",
       "</table>\n",
       "</div>"
      ],
      "text/plain": [
       "        call_type\n",
       "5150        13406\n",
       "5150V        2676\n",
       "FS            261\n",
       "RESCUE         24"
      ]
     },
     "execution_count": 52,
     "metadata": {},
     "output_type": "execute_result"
    }
   ],
   "source": [
    "# Show Number of Call Types for the crisis response codes\n",
    "\n",
    "cr_df['call_type'].value_counts().to_frame()"
   ]
  },
  {
   "cell_type": "code",
   "execution_count": 53,
   "id": "202361ea-e814-4700-9b15-68b239223780",
   "metadata": {
    "tags": []
   },
   "outputs": [
    {
     "data": {
      "text/html": [
       "<div>\n",
       "<style scoped>\n",
       "    .dataframe tbody tr th:only-of-type {\n",
       "        vertical-align: middle;\n",
       "    }\n",
       "\n",
       "    .dataframe tbody tr th {\n",
       "        vertical-align: top;\n",
       "    }\n",
       "\n",
       "    .dataframe thead th {\n",
       "        text-align: right;\n",
       "    }\n",
       "</style>\n",
       "<table border=\"1\" class=\"dataframe\">\n",
       "  <thead>\n",
       "    <tr style=\"text-align: right;\">\n",
       "      <th></th>\n",
       "      <th>beat</th>\n",
       "    </tr>\n",
       "  </thead>\n",
       "  <tbody>\n",
       "    <tr>\n",
       "      <th>521</th>\n",
       "      <td>1220</td>\n",
       "    </tr>\n",
       "    <tr>\n",
       "      <th>524</th>\n",
       "      <td>666</td>\n",
       "    </tr>\n",
       "    <tr>\n",
       "      <th>627</th>\n",
       "      <td>521</td>\n",
       "    </tr>\n",
       "    <tr>\n",
       "      <th>242</th>\n",
       "      <td>454</td>\n",
       "    </tr>\n",
       "    <tr>\n",
       "      <th>122</th>\n",
       "      <td>389</td>\n",
       "    </tr>\n",
       "    <tr>\n",
       "      <th>...</th>\n",
       "      <td>...</td>\n",
       "    </tr>\n",
       "    <tr>\n",
       "      <th>617</th>\n",
       "      <td>4</td>\n",
       "    </tr>\n",
       "    <tr>\n",
       "      <th>435</th>\n",
       "      <td>3</td>\n",
       "    </tr>\n",
       "    <tr>\n",
       "      <th>235</th>\n",
       "      <td>1</td>\n",
       "    </tr>\n",
       "    <tr>\n",
       "      <th>0</th>\n",
       "      <td>1</td>\n",
       "    </tr>\n",
       "    <tr>\n",
       "      <th>829</th>\n",
       "      <td>1</td>\n",
       "    </tr>\n",
       "  </tbody>\n",
       "</table>\n",
       "<p>127 rows × 1 columns</p>\n",
       "</div>"
      ],
      "text/plain": [
       "     beat\n",
       "521  1220\n",
       "524   666\n",
       "627   521\n",
       "242   454\n",
       "122   389\n",
       "..    ...\n",
       "617     4\n",
       "435     3\n",
       "235     1\n",
       "0       1\n",
       "829     1\n",
       "\n",
       "[127 rows x 1 columns]"
      ]
     },
     "execution_count": 53,
     "metadata": {},
     "output_type": "execute_result"
    }
   ],
   "source": [
    "# Find which neighborhoods have the most call\n",
    "\n",
    "cr_df['beat'].value_counts().to_frame()"
   ]
  },
  {
   "cell_type": "code",
   "execution_count": 54,
   "id": "50577875-2500-48af-b2e3-e94bc0fcf655",
   "metadata": {
    "tags": []
   },
   "outputs": [
    {
     "data": {
      "text/plain": [
       "beat             int64\n",
       "neighborhood    object\n",
       "dtype: object"
      ]
     },
     "execution_count": 54,
     "metadata": {},
     "output_type": "execute_result"
    }
   ],
   "source": [
    "beat_codes.dtypes"
   ]
  },
  {
   "cell_type": "code",
   "execution_count": 55,
   "id": "3fcadfea-b576-443c-9a0f-f201dce879d7",
   "metadata": {
    "tags": []
   },
   "outputs": [
    {
     "name": "stdout",
     "output_type": "stream",
     "text": [
      "    beat   neighborhood\n",
      "7    122  Pacific Beach\n",
      "17   242      Mira Mesa\n",
      "59   521   East Village\n",
      "62   524  Core-Columbia\n",
      "84   627      Hillcrest\n"
     ]
    }
   ],
   "source": [
    "# Find which neighborhoods have the highest calls\n",
    "\n",
    "top_areas_of_cf_calls = [521, 524, 627, 242, 122]\n",
    "\n",
    "print(beat_codes[beat_codes['beat'].isin(top_areas_of_cf_calls)])"
   ]
  },
  {
   "cell_type": "code",
   "execution_count": 57,
   "id": "04433a36-10e7-4b94-b538-8cec6cae44ca",
   "metadata": {
    "tags": []
   },
   "outputs": [
    {
     "name": "stderr",
     "output_type": "stream",
     "text": [
      "/opt/conda/lib/python3.7/site-packages/ipykernel_launcher.py:5: SettingWithCopyWarning: \n",
      "A value is trying to be set on a copy of a slice from a DataFrame.\n",
      "Try using .loc[row_indexer,col_indexer] = value instead\n",
      "\n",
      "See the caveats in the documentation: https://pandas.pydata.org/pandas-docs/stable/user_guide/indexing.html#returning-a-view-versus-a-copy\n",
      "  \"\"\"\n"
     ]
    },
    {
     "data": {
      "text/html": [
       "<div>\n",
       "<style scoped>\n",
       "    .dataframe tbody tr th:only-of-type {\n",
       "        vertical-align: middle;\n",
       "    }\n",
       "\n",
       "    .dataframe tbody tr th {\n",
       "        vertical-align: top;\n",
       "    }\n",
       "\n",
       "    .dataframe thead th {\n",
       "        text-align: right;\n",
       "    }\n",
       "</style>\n",
       "<table border=\"1\" class=\"dataframe\">\n",
       "  <thead>\n",
       "    <tr style=\"text-align: right;\">\n",
       "      <th></th>\n",
       "      <th>incident_num</th>\n",
       "      <th>date_time</th>\n",
       "      <th>day_of_week</th>\n",
       "      <th>address_number_primary</th>\n",
       "      <th>address_dir_primary</th>\n",
       "      <th>address_road_primary</th>\n",
       "      <th>address_sfx_primary</th>\n",
       "      <th>address_dir_intersecting</th>\n",
       "      <th>address_road_intersecting</th>\n",
       "      <th>address_sfx_intersecting</th>\n",
       "      <th>call_type</th>\n",
       "      <th>disposition</th>\n",
       "      <th>beat</th>\n",
       "      <th>priority</th>\n",
       "      <th>grouped_neighborhoods</th>\n",
       "    </tr>\n",
       "  </thead>\n",
       "  <tbody>\n",
       "    <tr>\n",
       "      <th>138</th>\n",
       "      <td>E22010000145</td>\n",
       "      <td>2022-01-01 01:11:19</td>\n",
       "      <td>7</td>\n",
       "      <td>3200</td>\n",
       "      <td>NaN</td>\n",
       "      <td>COWLEY</td>\n",
       "      <td>WAY</td>\n",
       "      <td>NaN</td>\n",
       "      <td>NaN</td>\n",
       "      <td>NaN</td>\n",
       "      <td>5150</td>\n",
       "      <td>CAN</td>\n",
       "      <td>116</td>\n",
       "      <td>2</td>\n",
       "      <td>100s</td>\n",
       "    </tr>\n",
       "    <tr>\n",
       "      <th>172</th>\n",
       "      <td>E22010000183</td>\n",
       "      <td>2022-01-01 01:33:06</td>\n",
       "      <td>7</td>\n",
       "      <td>9100</td>\n",
       "      <td>NaN</td>\n",
       "      <td>HUNTINGTON</td>\n",
       "      <td>AVE</td>\n",
       "      <td>NaN</td>\n",
       "      <td>NaN</td>\n",
       "      <td>NaN</td>\n",
       "      <td>5150V</td>\n",
       "      <td>K</td>\n",
       "      <td>311</td>\n",
       "      <td>1</td>\n",
       "      <td>300s</td>\n",
       "    </tr>\n",
       "    <tr>\n",
       "      <th>177</th>\n",
       "      <td>E22010000188</td>\n",
       "      <td>2022-01-01 01:38:21</td>\n",
       "      <td>7</td>\n",
       "      <td>900</td>\n",
       "      <td>NaN</td>\n",
       "      <td>05TH</td>\n",
       "      <td>AVE</td>\n",
       "      <td>NaN</td>\n",
       "      <td>NaN</td>\n",
       "      <td>NaN</td>\n",
       "      <td>5150</td>\n",
       "      <td>CAN</td>\n",
       "      <td>523</td>\n",
       "      <td>2</td>\n",
       "      <td>500s</td>\n",
       "    </tr>\n",
       "    <tr>\n",
       "      <th>223</th>\n",
       "      <td>E22010000237</td>\n",
       "      <td>2022-01-01 02:13:26</td>\n",
       "      <td>7</td>\n",
       "      <td>6700</td>\n",
       "      <td>NaN</td>\n",
       "      <td>THORNWOOD</td>\n",
       "      <td>ST</td>\n",
       "      <td>NaN</td>\n",
       "      <td>NaN</td>\n",
       "      <td>NaN</td>\n",
       "      <td>5150</td>\n",
       "      <td>K</td>\n",
       "      <td>111</td>\n",
       "      <td>2</td>\n",
       "      <td>100s</td>\n",
       "    </tr>\n",
       "    <tr>\n",
       "      <th>329</th>\n",
       "      <td>E22010000350</td>\n",
       "      <td>2022-01-01 03:34:26</td>\n",
       "      <td>7</td>\n",
       "      <td>2000</td>\n",
       "      <td>NaN</td>\n",
       "      <td>VESTA</td>\n",
       "      <td>ST</td>\n",
       "      <td>NaN</td>\n",
       "      <td>NaN</td>\n",
       "      <td>NaN</td>\n",
       "      <td>5150</td>\n",
       "      <td>CAN</td>\n",
       "      <td>511</td>\n",
       "      <td>2</td>\n",
       "      <td>500s</td>\n",
       "    </tr>\n",
       "  </tbody>\n",
       "</table>\n",
       "</div>"
      ],
      "text/plain": [
       "     incident_num            date_time  day_of_week  address_number_primary  \\\n",
       "138  E22010000145  2022-01-01 01:11:19            7                    3200   \n",
       "172  E22010000183  2022-01-01 01:33:06            7                    9100   \n",
       "177  E22010000188  2022-01-01 01:38:21            7                     900   \n",
       "223  E22010000237  2022-01-01 02:13:26            7                    6700   \n",
       "329  E22010000350  2022-01-01 03:34:26            7                    2000   \n",
       "\n",
       "    address_dir_primary address_road_primary address_sfx_primary  \\\n",
       "138                 NaN               COWLEY                 WAY   \n",
       "172                 NaN           HUNTINGTON                 AVE   \n",
       "177                 NaN                 05TH                 AVE   \n",
       "223                 NaN            THORNWOOD                  ST   \n",
       "329                 NaN                VESTA                  ST   \n",
       "\n",
       "     address_dir_intersecting address_road_intersecting  \\\n",
       "138                       NaN                       NaN   \n",
       "172                       NaN                       NaN   \n",
       "177                       NaN                       NaN   \n",
       "223                       NaN                       NaN   \n",
       "329                       NaN                       NaN   \n",
       "\n",
       "     address_sfx_intersecting call_type disposition  beat  priority  \\\n",
       "138                       NaN      5150         CAN   116         2   \n",
       "172                       NaN     5150V           K   311         1   \n",
       "177                       NaN      5150         CAN   523         2   \n",
       "223                       NaN      5150           K   111         2   \n",
       "329                       NaN      5150         CAN   511         2   \n",
       "\n",
       "    grouped_neighborhoods  \n",
       "138                  100s  \n",
       "172                  300s  \n",
       "177                  500s  \n",
       "223                  100s  \n",
       "329                  500s  "
      ]
     },
     "execution_count": 57,
     "metadata": {},
     "output_type": "execute_result"
    }
   ],
   "source": [
    "# Group by General Neighborhood Areas for Better Visualization\n",
    "b_codes = [100, 200, 300, 400, 500, 600, 700, 800, 900, 1000]\n",
    "b_neighborhoods = ['100s', '200s', '300s', '400s', '500s', '600s', '700s', '800s', '900s']\n",
    "\n",
    "cr_df['grouped_neighborhoods'] = pd.cut(cr_df['beat'], bins = b_codes, labels = b_neighborhoods, include_lowest = True)\n",
    "cr_df.head()"
   ]
  },
  {
   "cell_type": "code",
   "execution_count": 58,
   "id": "58b015f5-26fd-49ee-9a6c-001ca9d60299",
   "metadata": {
    "tags": []
   },
   "outputs": [
    {
     "data": {
      "text/plain": [
       "<matplotlib.axes._subplots.AxesSubplot at 0x7f220255a390>"
      ]
     },
     "execution_count": 58,
     "metadata": {},
     "output_type": "execute_result"
    },
    {
     "data": {
      "image/png": "[encoded data removed]",
      "text/plain": [
       "<Figure size 640x480 with 1 Axes>"
      ]
     },
     "metadata": {},
     "output_type": "display_data"
    }
   ],
   "source": [
    "# Call Types by Grouped Neighborhoods \n",
    "\n",
    "sns.countplot(x= 'call_type', hue = 'grouped_neighborhoods', data = cr_df)"
   ]
  },
  {
   "cell_type": "code",
   "execution_count": 68,
   "id": "4c440424-eb08-496f-b3e7-8065a32f0eb0",
   "metadata": {
    "tags": []
   },
   "outputs": [],
   "source": [
    "# Distribution of Calls by Neighborhoods\n",
    "\n",
    "# sns.histplot(data = cr_df, x = 'grouped_neighborhoods')"
   ]
  },
  {
   "cell_type": "markdown",
   "id": "e0319833-f99a-4a76-8e7a-3d38331f2c52",
   "metadata": {},
   "source": [
    "Downtown San Diego, specifically in East Village has the highest calls related to substance abuse, mental health, and suicide response."
   ]
  },
  {
   "cell_type": "code",
   "execution_count": null,
   "id": "6f0a9626-1e48-46bb-a72c-e6a0ec58d4bd",
   "metadata": {},
   "outputs": [],
   "source": []
  }
 ],
 "metadata": {
  "availableInstances": [
   {
    "_defaultOrder": 0,
    "_isFastLaunch": true,
    "category": "General purpose",
    "gpuNum": 0,
    "hideHardwareSpecs": false,
    "memoryGiB": 4,
    "name": "ml.t3.medium",
    "vcpuNum": 2
   },
   {
    "_defaultOrder": 1,
    "_isFastLaunch": false,
    "category": "General purpose",
    "gpuNum": 0,
    "hideHardwareSpecs": false,
    "memoryGiB": 8,
    "name": "ml.t3.large",
    "vcpuNum": 2
   },
   {
    "_defaultOrder": 2,
    "_isFastLaunch": false,
    "category": "General purpose",
    "gpuNum": 0,
    "hideHardwareSpecs": false,
    "memoryGiB": 16,
    "name": "ml.t3.xlarge",
    "vcpuNum": 4
   },
   {
    "_defaultOrder": 3,
    "_isFastLaunch": false,
    "category": "General purpose",
    "gpuNum": 0,
    "hideHardwareSpecs": false,
    "memoryGiB": 32,
    "name": "ml.t3.2xlarge",
    "vcpuNum": 8
   },
   {
    "_defaultOrder": 4,
    "_isFastLaunch": true,
    "category": "General purpose",
    "gpuNum": 0,
    "hideHardwareSpecs": false,
    "memoryGiB": 8,
    "name": "ml.m5.large",
    "vcpuNum": 2
   },
   {
    "_defaultOrder": 5,
    "_isFastLaunch": false,
    "category": "General purpose",
    "gpuNum": 0,
    "hideHardwareSpecs": false,
    "memoryGiB": 16,
    "name": "ml.m5.xlarge",
    "vcpuNum": 4
   },
   {
    "_defaultOrder": 6,
    "_isFastLaunch": false,
    "category": "General purpose",
    "gpuNum": 0,
    "hideHardwareSpecs": false,
    "memoryGiB": 32,
    "name": "ml.m5.2xlarge",
    "vcpuNum": 8
   },
   {
    "_defaultOrder": 7,
    "_isFastLaunch": false,
    "category": "General purpose",
    "gpuNum": 0,
    "hideHardwareSpecs": false,
    "memoryGiB": 64,
    "name": "ml.m5.4xlarge",
    "vcpuNum": 16
   },
   {
    "_defaultOrder": 8,
    "_isFastLaunch": false,
    "category": "General purpose",
    "gpuNum": 0,
    "hideHardwareSpecs": false,
    "memoryGiB": 128,
    "name": "ml.m5.8xlarge",
    "vcpuNum": 32
   },
   {
    "_defaultOrder": 9,
    "_isFastLaunch": false,
    "category": "General purpose",
    "gpuNum": 0,
    "hideHardwareSpecs": false,
    "memoryGiB": 192,
    "name": "ml.m5.12xlarge",
    "vcpuNum": 48
   },
   {
    "_defaultOrder": 10,
    "_isFastLaunch": false,
    "category": "General purpose",
    "gpuNum": 0,
    "hideHardwareSpecs": false,
    "memoryGiB": 256,
    "name": "ml.m5.16xlarge",
    "vcpuNum": 64
   },
   {
    "_defaultOrder": 11,
    "_isFastLaunch": false,
    "category": "General purpose",
    "gpuNum": 0,
    "hideHardwareSpecs": false,
    "memoryGiB": 384,
    "name": "ml.m5.24xlarge",
    "vcpuNum": 96
   },
   {
    "_defaultOrder": 12,
    "_isFastLaunch": false,
    "category": "General purpose",
    "gpuNum": 0,
    "hideHardwareSpecs": false,
    "memoryGiB": 8,
    "name": "ml.m5d.large",
    "vcpuNum": 2
   },
   {
    "_defaultOrder": 13,
    "_isFastLaunch": false,
    "category": "General purpose",
    "gpuNum": 0,
    "hideHardwareSpecs": false,
    "memoryGiB": 16,
    "name": "ml.m5d.xlarge",
    "vcpuNum": 4
   },
   {
    "_defaultOrder": 14,
    "_isFastLaunch": false,
    "category": "General purpose",
    "gpuNum": 0,
    "hideHardwareSpecs": false,
    "memoryGiB": 32,
    "name": "ml.m5d.2xlarge",
    "vcpuNum": 8
   },
   {
    "_defaultOrder": 15,
    "_isFastLaunch": false,
    "category": "General purpose",
    "gpuNum": 0,
    "hideHardwareSpecs": false,
    "memoryGiB": 64,
    "name": "ml.m5d.4xlarge",
    "vcpuNum": 16
   },
   {
    "_defaultOrder": 16,
    "_isFastLaunch": false,
    "category": "General purpose",
    "gpuNum": 0,
    "hideHardwareSpecs": false,
    "memoryGiB": 128,
    "name": "ml.m5d.8xlarge",
    "vcpuNum": 32
   },
   {
    "_defaultOrder": 17,
    "_isFastLaunch": false,
    "category": "General purpose",
    "gpuNum": 0,
    "hideHardwareSpecs": false,
    "memoryGiB": 192,
    "name": "ml.m5d.12xlarge",
    "vcpuNum": 48
   },
   {
    "_defaultOrder": 18,
    "_isFastLaunch": false,
    "category": "General purpose",
    "gpuNum": 0,
    "hideHardwareSpecs": false,
    "memoryGiB": 256,
    "name": "ml.m5d.16xlarge",
    "vcpuNum": 64
   },
   {
    "_defaultOrder": 19,
    "_isFastLaunch": false,
    "category": "General purpose",
    "gpuNum": 0,
    "hideHardwareSpecs": false,
    "memoryGiB": 384,
    "name": "ml.m5d.24xlarge",
    "vcpuNum": 96
   },
   {
    "_defaultOrder": 20,
    "_isFastLaunch": false,
    "category": "General purpose",
    "gpuNum": 0,
    "hideHardwareSpecs": true,
    "memoryGiB": 0,
    "name": "ml.geospatial.interactive",
    "supportedImageNames": [
     "sagemaker-geospatial-v1-0"
    ],
    "vcpuNum": 0
   },
   {
    "_defaultOrder": 21,
    "_isFastLaunch": true,
    "category": "Compute optimized",
    "gpuNum": 0,
    "hideHardwareSpecs": false,
    "memoryGiB": 4,
    "name": "ml.c5.large",
    "vcpuNum": 2
   },
   {
    "_defaultOrder": 22,
    "_isFastLaunch": false,
    "category": "Compute optimized",
    "gpuNum": 0,
    "hideHardwareSpecs": false,
    "memoryGiB": 8,
    "name": "ml.c5.xlarge",
    "vcpuNum": 4
   },
   {
    "_defaultOrder": 23,
    "_isFastLaunch": false,
    "category": "Compute optimized",
    "gpuNum": 0,
    "hideHardwareSpecs": false,
    "memoryGiB": 16,
    "name": "ml.c5.2xlarge",
    "vcpuNum": 8
   },
   {
    "_defaultOrder": 24,
    "_isFastLaunch": false,
    "category": "Compute optimized",
    "gpuNum": 0,
    "hideHardwareSpecs": false,
    "memoryGiB": 32,
    "name": "ml.c5.4xlarge",
    "vcpuNum": 16
   },
   {
    "_defaultOrder": 25,
    "_isFastLaunch": false,
    "category": "Compute optimized",
    "gpuNum": 0,
    "hideHardwareSpecs": false,
    "memoryGiB": 72,
    "name": "ml.c5.9xlarge",
    "vcpuNum": 36
   },
   {
    "_defaultOrder": 26,
    "_isFastLaunch": false,
    "category": "Compute optimized",
    "gpuNum": 0,
    "hideHardwareSpecs": false,
    "memoryGiB": 96,
    "name": "ml.c5.12xlarge",
    "vcpuNum": 48
   },
   {
    "_defaultOrder": 27,
    "_isFastLaunch": false,
    "category": "Compute optimized",
    "gpuNum": 0,
    "hideHardwareSpecs": false,
    "memoryGiB": 144,
    "name": "ml.c5.18xlarge",
    "vcpuNum": 72
   },
   {
    "_defaultOrder": 28,
    "_isFastLaunch": false,
    "category": "Compute optimized",
    "gpuNum": 0,
    "hideHardwareSpecs": false,
    "memoryGiB": 192,
    "name": "ml.c5.24xlarge",
    "vcpuNum": 96
   },
   {
    "_defaultOrder": 29,
    "_isFastLaunch": true,
    "category": "Accelerated computing",
    "gpuNum": 1,
    "hideHardwareSpecs": false,
    "memoryGiB": 16,
    "name": "ml.g4dn.xlarge",
    "vcpuNum": 4
   },
   {
    "_defaultOrder": 30,
    "_isFastLaunch": false,
    "category": "Accelerated computing",
    "gpuNum": 1,
    "hideHardwareSpecs": false,
    "memoryGiB": 32,
    "name": "ml.g4dn.2xlarge",
    "vcpuNum": 8
   },
   {
    "_defaultOrder": 31,
    "_isFastLaunch": false,
    "category": "Accelerated computing",
    "gpuNum": 1,
    "hideHardwareSpecs": false,
    "memoryGiB": 64,
    "name": "ml.g4dn.4xlarge",
    "vcpuNum": 16
   },
   {
    "_defaultOrder": 32,
    "_isFastLaunch": false,
    "category": "Accelerated computing",
    "gpuNum": 1,
    "hideHardwareSpecs": false,
    "memoryGiB": 128,
    "name": "ml.g4dn.8xlarge",
    "vcpuNum": 32
   },
   {
    "_defaultOrder": 33,
    "_isFastLaunch": false,
    "category": "Accelerated computing",
    "gpuNum": 4,
    "hideHardwareSpecs": false,
    "memoryGiB": 192,
    "name": "ml.g4dn.12xlarge",
    "vcpuNum": 48
   },
   {
    "_defaultOrder": 34,
    "_isFastLaunch": false,
    "category": "Accelerated computing",
    "gpuNum": 1,
    "hideHardwareSpecs": false,
    "memoryGiB": 256,
    "name": "ml.g4dn.16xlarge",
    "vcpuNum": 64
   },
   {
    "_defaultOrder": 35,
    "_isFastLaunch": false,
    "category": "Accelerated computing",
    "gpuNum": 1,
    "hideHardwareSpecs": false,
    "memoryGiB": 61,
    "name": "ml.p3.2xlarge",
    "vcpuNum": 8
   },
   {
    "_defaultOrder": 36,
    "_isFastLaunch": false,
    "category": "Accelerated computing",
    "gpuNum": 4,
    "hideHardwareSpecs": false,
    "memoryGiB": 244,
    "name": "ml.p3.8xlarge",
    "vcpuNum": 32
   },
   {
    "_defaultOrder": 37,
    "_isFastLaunch": false,
    "category": "Accelerated computing",
    "gpuNum": 8,
    "hideHardwareSpecs": false,
    "memoryGiB": 488,
    "name": "ml.p3.16xlarge",
    "vcpuNum": 64
   },
   {
    "_defaultOrder": 38,
    "_isFastLaunch": false,
    "category": "Accelerated computing",
    "gpuNum": 8,
    "hideHardwareSpecs": false,
    "memoryGiB": 768,
    "name": "ml.p3dn.24xlarge",
    "vcpuNum": 96
   },
   {
    "_defaultOrder": 39,
    "_isFastLaunch": false,
    "category": "Memory Optimized",
    "gpuNum": 0,
    "hideHardwareSpecs": false,
    "memoryGiB": 16,
    "name": "ml.r5.large",
    "vcpuNum": 2
   },
   {
    "_defaultOrder": 40,
    "_isFastLaunch": false,
    "category": "Memory Optimized",
    "gpuNum": 0,
    "hideHardwareSpecs": false,
    "memoryGiB": 32,
    "name": "ml.r5.xlarge",
    "vcpuNum": 4
   },
   {
    "_defaultOrder": 41,
    "_isFastLaunch": false,
    "category": "Memory Optimized",
    "gpuNum": 0,
    "hideHardwareSpecs": false,
    "memoryGiB": 64,
    "name": "ml.r5.2xlarge",
    "vcpuNum": 8
   },
   {
    "_defaultOrder": 42,
    "_isFastLaunch": false,
    "category": "Memory Optimized",
    "gpuNum": 0,
    "hideHardwareSpecs": false,
    "memoryGiB": 128,
    "name": "ml.r5.4xlarge",
    "vcpuNum": 16
   },
   {
    "_defaultOrder": 43,
    "_isFastLaunch": false,
    "category": "Memory Optimized",
    "gpuNum": 0,
    "hideHardwareSpecs": false,
    "memoryGiB": 256,
    "name": "ml.r5.8xlarge",
    "vcpuNum": 32
   },
   {
    "_defaultOrder": 44,
    "_isFastLaunch": false,
    "category": "Memory Optimized",
    "gpuNum": 0,
    "hideHardwareSpecs": false,
    "memoryGiB": 384,
    "name": "ml.r5.12xlarge",
    "vcpuNum": 48
   },
   {
    "_defaultOrder": 45,
    "_isFastLaunch": false,
    "category": "Memory Optimized",
    "gpuNum": 0,
    "hideHardwareSpecs": false,
    "memoryGiB": 512,
    "name": "ml.r5.16xlarge",
    "vcpuNum": 64
   },
   {
    "_defaultOrder": 46,
    "_isFastLaunch": false,
    "category": "Memory Optimized",
    "gpuNum": 0,
    "hideHardwareSpecs": false,
    "memoryGiB": 768,
    "name": "ml.r5.24xlarge",
    "vcpuNum": 96
   },
   {
    "_defaultOrder": 47,
    "_isFastLaunch": false,
    "category": "Accelerated computing",
    "gpuNum": 1,
    "hideHardwareSpecs": false,
    "memoryGiB": 16,
    "name": "ml.g5.xlarge",
    "vcpuNum": 4
   },
   {
    "_defaultOrder": 48,
    "_isFastLaunch": false,
    "category": "Accelerated computing",
    "gpuNum": 1,
    "hideHardwareSpecs": false,
    "memoryGiB": 32,
    "name": "ml.g5.2xlarge",
    "vcpuNum": 8
   },
   {
    "_defaultOrder": 49,
    "_isFastLaunch": false,
    "category": "Accelerated computing",
    "gpuNum": 1,
    "hideHardwareSpecs": false,
    "memoryGiB": 64,
    "name": "ml.g5.4xlarge",
    "vcpuNum": 16
   },
   {
    "_defaultOrder": 50,
    "_isFastLaunch": false,
    "category": "Accelerated computing",
    "gpuNum": 1,
    "hideHardwareSpecs": false,
    "memoryGiB": 128,
    "name": "ml.g5.8xlarge",
    "vcpuNum": 32
   },
   {
    "_defaultOrder": 51,
    "_isFastLaunch": false,
    "category": "Accelerated computing",
    "gpuNum": 1,
    "hideHardwareSpecs": false,
    "memoryGiB": 256,
    "name": "ml.g5.16xlarge",
    "vcpuNum": 64
   },
   {
    "_defaultOrder": 52,
    "_isFastLaunch": false,
    "category": "Accelerated computing",
    "gpuNum": 4,
    "hideHardwareSpecs": false,
    "memoryGiB": 192,
    "name": "ml.g5.12xlarge",
    "vcpuNum": 48
   },
   {
    "_defaultOrder": 53,
    "_isFastLaunch": false,
    "category": "Accelerated computing",
    "gpuNum": 4,
    "hideHardwareSpecs": false,
    "memoryGiB": 384,
    "name": "ml.g5.24xlarge",
    "vcpuNum": 96
   },
   {
    "_defaultOrder": 54,
    "_isFastLaunch": false,
    "category": "Accelerated computing",
    "gpuNum": 8,
    "hideHardwareSpecs": false,
    "memoryGiB": 768,
    "name": "ml.g5.48xlarge",
    "vcpuNum": 192
   }
  ],
  "kernelspec": {
   "display_name": "Python 3 (Data Science)",
   "language": "python",
   "name": "python3__SAGEMAKER_INTERNAL__arn:aws:sagemaker:us-east-1:081325390199:image/datascience-1.0"
  },
  "language_info": {
   "codemirror_mode": {
    "name": "ipython",
    "version": 3
   },
   "file_extension": ".py",
   "mimetype": "text/x-python",
   "name": "python",
   "nbconvert_exporter": "python",
   "pygments_lexer": "ipython3",
   "version": "3.7.10"
  }
 },
 "nbformat": 4,
 "nbformat_minor": 5
}
